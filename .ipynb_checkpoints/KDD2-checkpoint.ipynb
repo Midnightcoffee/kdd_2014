{
 "metadata": {
  "name": "",
  "signature": "sha256:4350d6422dcf0b59299ecdbb5f9ef4301b7ec9404b45f3bf18b1bbcbb63cdb9a"
 },
 "nbformat": 3,
 "nbformat_minor": 0,
 "worksheets": [
  {
   "cells": [
    {
     "cell_type": "heading",
     "level": 1,
     "metadata": {},
     "source": [
      "It's the journy that's important... right?"
     ]
    },
    {
     "cell_type": "code",
     "collapsed": false,
     "input": [
      "import pandas as pd"
     ],
     "language": "python",
     "metadata": {},
     "outputs": [],
     "prompt_number": 2
    },
    {
     "cell_type": "markdown",
     "metadata": {},
     "source": [
      "Pandas helps us create dataframs, which are great for poking aroound in our data.\n"
     ]
    },
    {
     "cell_type": "heading",
     "level": 1,
     "metadata": {},
     "source": [
      "Take a look at the sample submission"
     ]
    },
    {
     "cell_type": "markdown",
     "metadata": {},
     "source": [
      "It's important to get a sense for where were going. That is, what the goal is. luckly were provded with a sample submission. \n"
     ]
    },
    {
     "cell_type": "code",
     "collapsed": false,
     "input": [
      "sample_submission = pd.read_csv(\"data/sampleSubmission.csv\")"
     ],
     "language": "python",
     "metadata": {},
     "outputs": [],
     "prompt_number": 58
    },
    {
     "cell_type": "markdown",
     "metadata": {},
     "source": [
      "lets take a looka the sample submissions columns\n"
     ]
    },
    {
     "cell_type": "code",
     "collapsed": false,
     "input": [
      "sample_submission.to_string"
     ],
     "language": "python",
     "metadata": {},
     "outputs": [
      {
       "metadata": {},
       "output_type": "pyout",
       "prompt_number": 67,
       "text": [
        "<bound method DataFrame.to_string of <class 'pandas.core.frame.DataFrame'>\n",
        "Int64Index: 44772 entries, 0 to 44771\n",
        "Data columns (total 2 columns):\n",
        "projectid      44772  non-null values\n",
        "is_exciting    44772  non-null values\n",
        "dtypes: int64(1), object(1)>"
       ]
      }
     ],
     "prompt_number": 67
    },
    {
     "cell_type": "code",
     "collapsed": false,
     "input": [
      "sample_submission.is_exciting.sum()\n"
     ],
     "language": "python",
     "metadata": {},
     "outputs": [
      {
       "metadata": {},
       "output_type": "pyout",
       "prompt_number": 92,
       "text": [
        "0"
       ]
      }
     ],
     "prompt_number": 92
    },
    {
     "cell_type": "markdown",
     "metadata": {},
     "source": [
      "so, the sum is 0, which means their all 0's."
     ]
    },
    {
     "cell_type": "markdown",
     "metadata": {},
     "source": [
      "Honest at this point, even after reading the forums i'm not sure what my submission should look like. Is it supposed to just be a 1 or 0 in the column or does 1 < n > 0, where n is the prob the project is exciting desired? lets just try somesubmission data. "
     ]
    },
    {
     "cell_type": "markdown",
     "metadata": {},
     "source": [
      "I submitted a couple dummy sets with random floats in is exciting like so..\n",
      "\n",
      "* 0     0.080851\n",
      "* 1     0.366462\n",
      "* 2     0.223979\n",
      "\n",
      "and data where is_exciting is either 1 or 0.\n",
      "\n",
      "* 0 0\n",
      "* 1 0\n",
      "* 2 1\n",
      "\n",
      "both were accepted. So it seems likely that anyything about .50 is considered is_exciting. I Don't know or care to confirm this..."
     ]
    },
    {
     "cell_type": "markdown",
     "metadata": {},
     "source": [
      "Lets take a look at the shape to see how many rows/entries we have."
     ]
    },
    {
     "cell_type": "code",
     "collapsed": false,
     "input": [
      "sample_submission.shape"
     ],
     "language": "python",
     "metadata": {},
     "outputs": [
      {
       "metadata": {},
       "output_type": "pyout",
       "prompt_number": 68,
       "text": [
        "(44772, 2)"
       ]
      }
     ],
     "prompt_number": 68
    },
    {
     "cell_type": "markdown",
     "metadata": {},
     "source": [
      "So were going to submit table with two columns, is exciting and proejct_id. More intresting is the number of rows 44772, \n",
      "Lets take a look at the competition description for submission\n",
      " \n",
      "> The data is provided in a relational format and split by dates. Any project posted prior to 2014-01-01 is in the training set (\n",
      "along with its funding outcomes). Any project posted after is in the test set. Some projects in the test set may still be \n",
      "live and are ignored in the scoring. We do not disclose which projects are still live to avoid leakage regarding \n",
      "the funding status.\n",
      "\n",
      "this means I would expect 44772 rows in another file, possible projects.csv to have 44772 rows with datas past that range. \n",
      "Lets test this theory"
     ]
    },
    {
     "cell_type": "code",
     "collapsed": false,
     "input": [
      "projects = pd.read_csv(\"data/projects.csv\")"
     ],
     "language": "python",
     "metadata": {},
     "outputs": [],
     "prompt_number": 70
    },
    {
     "cell_type": "markdown",
     "metadata": {},
     "source": [
      "Take a look at projects file"
     ]
    },
    {
     "cell_type": "code",
     "collapsed": false,
     "input": [
      "projects.to_string"
     ],
     "language": "python",
     "metadata": {},
     "outputs": [
      {
       "metadata": {},
       "output_type": "pyout",
       "prompt_number": 66,
       "text": [
        "<bound method DataFrame.to_string of <class 'pandas.core.frame.DataFrame'>\n",
        "DatetimeIndex: 664098 entries, 2014-05-12 00:00:00 to 2002-09-13 00:00:00\n",
        "Data columns (total 34 columns):\n",
        "projectid                                 664098  non-null values\n",
        "teacher_acctid                            664098  non-null values\n",
        "schoolid                                  664098  non-null values\n",
        "school_ncesid                             621362  non-null values\n",
        "school_latitude                           664098  non-null values\n",
        "school_longitude                          664098  non-null values\n",
        "school_city                               664098  non-null values\n",
        "school_state                              664098  non-null values\n",
        "school_zip                                664094  non-null values\n",
        "school_metro                              582190  non-null values\n",
        "school_district                           663150  non-null values\n",
        "school_county                             664081  non-null values\n",
        "school_charter                            664098  non-null values\n",
        "school_magnet                             664098  non-null values\n",
        "school_year_round                         664098  non-null values\n",
        "school_nlns                               664098  non-null values\n",
        "school_kipp                               664098  non-null values\n",
        "school_charter_ready_promise              664098  non-null values\n",
        "teacher_prefix                            664094  non-null values\n",
        "teacher_teach_for_america                 664098  non-null values\n",
        "teacher_ny_teaching_fellow                664098  non-null values\n",
        "primary_focus_subject                     664059  non-null values\n",
        "primary_focus_area                        664059  non-null values\n",
        "secondary_focus_subject                   456205  non-null values\n",
        "secondary_focus_area                      456205  non-null values\n",
        "resource_type                             664053  non-null values\n",
        "poverty_level                             664098  non-null values\n",
        "grade_level                               664089  non-null values\n",
        "fulfillment_labor_materials               629016  non-null values\n",
        "total_price_excluding_optional_support    664098  non-null values\n",
        "total_price_including_optional_support    664098  non-null values\n",
        "students_reached                          663952  non-null values\n",
        "eligible_double_your_impact_match         664098  non-null values\n",
        "eligible_almost_home_match                664098  non-null values\n",
        "dtypes: float64(8), object(26)>"
       ]
      }
     ],
     "prompt_number": 66
    },
    {
     "cell_type": "markdown",
     "metadata": {},
     "source": [
      "looks like projects has a date posted. This looks promising\n"
     ]
    },
    {
     "cell_type": "markdown",
     "metadata": {},
     "source": [
      "Lets double check the size "
     ]
    },
    {
     "cell_type": "code",
     "collapsed": false,
     "input": [
      "projects.shape"
     ],
     "language": "python",
     "metadata": {},
     "outputs": [
      {
       "metadata": {},
       "output_type": "pyout",
       "prompt_number": 64,
       "text": [
        "(664098, 34)"
       ]
      }
     ],
     "prompt_number": 64
    },
    {
     "cell_type": "code",
     "collapsed": false,
     "input": [
      "projects.date_posted[1:5]\n"
     ],
     "language": "python",
     "metadata": {},
     "outputs": [
      {
       "metadata": {},
       "output_type": "pyout",
       "prompt_number": 71,
       "text": [
        "1    2014-05-12\n",
        "2    2014-05-11\n",
        "3    2014-05-11\n",
        "4    2014-05-11\n",
        "Name: date_posted, dtype: object"
       ]
      }
     ],
     "prompt_number": 71
    },
    {
     "cell_type": "markdown",
     "metadata": {},
     "source": [
      "1:5 is start:stop, so it slices out the first 4 rows. #TODO: dont assume these are ordered... so sort them"
     ]
    },
    {
     "cell_type": "markdown",
     "metadata": {},
     "source": [
      "This is promising but the type of that column seems to be object. What does that mean? I would want it to be a datetime so we could use pandas to slice out the dates. Lets check the type to be sure."
     ]
    },
    {
     "cell_type": "code",
     "collapsed": false,
     "input": [
      "type(projects.date_posted[0])"
     ],
     "language": "python",
     "metadata": {},
     "outputs": [
      {
       "output_type": "stream",
       "stream": "stdout",
       "text": [
        "<type 'str'>\n"
       ]
      }
     ],
     "prompt_number": 6
    },
    {
     "cell_type": "markdown",
     "metadata": {},
     "source": [
      "lets check all our columns to see if we have missing data in the date_posted. And because its easy,\n",
      "lets check everywhere. "
     ]
    },
    {
     "cell_type": "code",
     "collapsed": false,
     "input": [
      "projects.count()- projects.date_posted.count()"
     ],
     "language": "python",
     "metadata": {},
     "outputs": [
      {
       "metadata": {},
       "output_type": "pyout",
       "prompt_number": 31,
       "text": [
        "projectid                                      0\n",
        "teacher_acctid                                 0\n",
        "schoolid                                       0\n",
        "school_ncesid                             -42736\n",
        "school_latitude                                0\n",
        "school_longitude                               0\n",
        "school_city                                    0\n",
        "school_state                                   0\n",
        "school_zip                                    -4\n",
        "school_metro                              -81908\n",
        "school_district                             -948\n",
        "school_county                                -17\n",
        "school_charter                                 0\n",
        "school_magnet                                  0\n",
        "school_year_round                              0\n",
        "school_nlns                                    0\n",
        "school_kipp                                    0\n",
        "school_charter_ready_promise                   0\n",
        "teacher_prefix                                -4\n",
        "teacher_teach_for_america                      0\n",
        "teacher_ny_teaching_fellow                     0\n",
        "primary_focus_subject                        -39\n",
        "primary_focus_area                           -39\n",
        "secondary_focus_subject                  -207893\n",
        "secondary_focus_area                     -207893\n",
        "resource_type                                -45\n",
        "poverty_level                                  0\n",
        "grade_level                                   -9\n",
        "fulfillment_labor_materials               -35082\n",
        "total_price_excluding_optional_support         0\n",
        "total_price_including_optional_support         0\n",
        "students_reached                            -146\n",
        "eligible_double_your_impact_match              0\n",
        "eligible_almost_home_match                     0\n",
        "date_posted                                    0\n",
        "dtype: int64"
       ]
      }
     ],
     "prompt_number": 31
    },
    {
     "cell_type": "markdown",
     "metadata": {},
     "source": [
      "Looks like no missing values in date_posted. Whill discover if their are any formatting issues when we try to\n",
      "convert to datetime"
     ]
    },
    {
     "cell_type": "code",
     "collapsed": false,
     "input": [
      "# So date_posted is a column of strings, lets convert it.\n",
      "from datetime import datetime\n",
      "projects.date_posted = pd.to_datetime(projects.date_posted)\n",
      "# lets check that\n",
      "type(projects.date_posted[0])"
     ],
     "language": "python",
     "metadata": {},
     "outputs": [
      {
       "output_type": "stream",
       "stream": "stdout",
       "text": [
        "<class 'pandas.tslib.Timestamp'>\n"
       ]
      }
     ],
     "prompt_number": 4
    },
    {
     "cell_type": "markdown",
     "metadata": {},
     "source": [
      "Lets look at our date_info to see if it makes sense.... recall this bit\n",
      "\"Any project posted prior to 2014-01-01 is in the training set (\n",
      "along with its funding outcomes). Any project posted after is in the test set\""
     ]
    },
    {
     "cell_type": "code",
     "collapsed": false,
     "input": [
      "pd.DatetimeIndex(projects.date_posted)"
     ],
     "language": "python",
     "metadata": {},
     "outputs": [
      {
       "metadata": {},
       "output_type": "pyout",
       "prompt_number": 18,
       "text": [
        "<class 'pandas.tseries.index.DatetimeIndex'>\n",
        "[2014-05-12 00:00:00, ..., 2002-09-13 00:00:00]\n",
        "Length: 664098, Freq: None, Timezone: None"
       ]
      }
     ],
     "prompt_number": 18
    },
    {
     "cell_type": "heading",
     "level": 1,
     "metadata": {},
     "source": [
      "splite date into train and test\n",
      "\n"
     ]
    },
    {
     "cell_type": "markdown",
     "metadata": {},
     "source": [
      "So that looks good, we have dates before 2014-01-01 and after. Now we need to split them into our  and test data around that date. Spend a second figuring out how to loop over a table so that you slice our the right dates. now forget it and do this to split into our test and training set. \n"
     ]
    },
    {
     "cell_type": "code",
     "collapsed": false,
     "input": [
      "# Lets take a look at the outcomes, which contains information about the outcomes of projects in the training set\n",
      "outcomes = pd.read_csv(\"data/outcomes.csv\")"
     ],
     "language": "python",
     "metadata": {},
     "outputs": [],
     "prompt_number": 3
    },
    {
     "cell_type": "code",
     "collapsed": false,
     "input": [
      "cut_off = '2014-01-01'\n",
      "# TODO: more specific name then train.\n",
      "train = projects[:cut_off]\n",
      "test = projects[cut_off:]\n"
     ],
     "language": "python",
     "metadata": {},
     "outputs": [],
     "prompt_number": 15
    },
    {
     "cell_type": "markdown",
     "metadata": {},
     "source": [
      "Is it really that easy? Lets check our training data"
     ]
    },
    {
     "cell_type": "code",
     "collapsed": false,
     "input": [
      "train"
     ],
     "language": "python",
     "metadata": {},
     "outputs": [
      {
       "html": [
        "<pre>\n",
        "&lt;class 'pandas.core.frame.DataFrame'&gt;\n",
        "DatetimeIndex: 619693 entries, 2014-01-01 00:00:00 to 2002-09-13 00:00:00\n",
        "Data columns (total 34 columns):\n",
        "projectid                                 619693  non-null values\n",
        "teacher_acctid                            619693  non-null values\n",
        "schoolid                                  619693  non-null values\n",
        "school_ncesid                             580819  non-null values\n",
        "school_latitude                           619693  non-null values\n",
        "school_longitude                          619693  non-null values\n",
        "school_city                               619693  non-null values\n",
        "school_state                              619693  non-null values\n",
        "school_zip                                619689  non-null values\n",
        "school_metro                              544146  non-null values\n",
        "school_district                           618771  non-null values\n",
        "school_county                             619676  non-null values\n",
        "school_charter                            619693  non-null values\n",
        "school_magnet                             619693  non-null values\n",
        "school_year_round                         619693  non-null values\n",
        "school_nlns                               619693  non-null values\n",
        "school_kipp                               619693  non-null values\n",
        "school_charter_ready_promise              619693  non-null values\n",
        "teacher_prefix                            619693  non-null values\n",
        "teacher_teach_for_america                 619693  non-null values\n",
        "teacher_ny_teaching_fellow                619693  non-null values\n",
        "primary_focus_subject                     619657  non-null values\n",
        "primary_focus_area                        619657  non-null values\n",
        "secondary_focus_subject                   425624  non-null values\n",
        "secondary_focus_area                      425624  non-null values\n",
        "resource_type                             619650  non-null values\n",
        "poverty_level                             619693  non-null values\n",
        "grade_level                               619686  non-null values\n",
        "fulfillment_labor_materials               584611  non-null values\n",
        "total_price_excluding_optional_support    619693  non-null values\n",
        "total_price_including_optional_support    619693  non-null values\n",
        "students_reached                          619549  non-null values\n",
        "eligible_double_your_impact_match         619693  non-null values\n",
        "eligible_almost_home_match                619693  non-null values\n",
        "dtypes: float64(8), object(26)\n",
        "</pre>"
       ],
       "metadata": {},
       "output_type": "pyout",
       "prompt_number": 16,
       "text": [
        "<class 'pandas.core.frame.DataFrame'>\n",
        "DatetimeIndex: 619693 entries, 2014-01-01 00:00:00 to 2002-09-13 00:00:00\n",
        "Data columns (total 34 columns):\n",
        "projectid                                 619693  non-null values\n",
        "teacher_acctid                            619693  non-null values\n",
        "schoolid                                  619693  non-null values\n",
        "school_ncesid                             580819  non-null values\n",
        "school_latitude                           619693  non-null values\n",
        "school_longitude                          619693  non-null values\n",
        "school_city                               619693  non-null values\n",
        "school_state                              619693  non-null values\n",
        "school_zip                                619689  non-null values\n",
        "school_metro                              544146  non-null values\n",
        "school_district                           618771  non-null values\n",
        "school_county                             619676  non-null values\n",
        "school_charter                            619693  non-null values\n",
        "school_magnet                             619693  non-null values\n",
        "school_year_round                         619693  non-null values\n",
        "school_nlns                               619693  non-null values\n",
        "school_kipp                               619693  non-null values\n",
        "school_charter_ready_promise              619693  non-null values\n",
        "teacher_prefix                            619693  non-null values\n",
        "teacher_teach_for_america                 619693  non-null values\n",
        "teacher_ny_teaching_fellow                619693  non-null values\n",
        "primary_focus_subject                     619657  non-null values\n",
        "primary_focus_area                        619657  non-null values\n",
        "secondary_focus_subject                   425624  non-null values\n",
        "secondary_focus_area                      425624  non-null values\n",
        "resource_type                             619650  non-null values\n",
        "poverty_level                             619693  non-null values\n",
        "grade_level                               619686  non-null values\n",
        "fulfillment_labor_materials               584611  non-null values\n",
        "total_price_excluding_optional_support    619693  non-null values\n",
        "total_price_including_optional_support    619693  non-null values\n",
        "students_reached                          619549  non-null values\n",
        "eligible_double_your_impact_match         619693  non-null values\n",
        "eligible_almost_home_match                619693  non-null values\n",
        "dtypes: float64(8), object(26)"
       ]
      }
     ],
     "prompt_number": 16
    },
    {
     "cell_type": "markdown",
     "metadata": {},
     "source": [
      "Awesome. "
     ]
    },
    {
     "cell_type": "markdown",
     "metadata": {},
     "source": [
      "Lets also check the size to be clear how much data we have to play with."
     ]
    },
    {
     "cell_type": "code",
     "collapsed": false,
     "input": [
      "train.shape"
     ],
     "language": "python",
     "metadata": {},
     "outputs": [
      {
       "metadata": {},
       "output_type": "pyout",
       "prompt_number": 65,
       "text": [
        "(619693, 34)"
       ]
      }
     ],
     "prompt_number": 65
    },
    {
     "cell_type": "markdown",
     "metadata": {},
     "source": [
      "Wow we have over 100 thousand, this will become important as the type of model we choose will depend on how much data we have. Lets go ahead and do that now. Ok, so sense I don't have a phd in data science i'm going to have to take some things on faith and trust in this handy chart that sk-learn provides..."
     ]
    },
    {
     "cell_type": "markdown",
     "metadata": {},
     "source": [
      "<img src=\"data/ml_map3.png\">"
     ]
    },
    {
     "cell_type": "markdown",
     "metadata": {},
     "source": [
      "Linear SVC. Err lets google that shall we?\n",
      "\n",
      "1. http://scikit-learn.org/stable/modules/generated/sklearn.svm.LinearSVC.html\n",
      "2. http://scikit-learn.org/stable/modules/svm.html\n",
      "\n",
      "So it's a Linear Support Vector Classification. Lets look for that a bit...\n",
      "\n",
      "1. Intro video: https://www.youtube.com/watch?v=LXGaYVXkGtg ~ I wasn't a fan of this video... lets try another.\n",
      "2. another video: https://www.youtube.com/watch?v=1NxnPkZM9bc ~ This was a good light overview..\n",
      "3. andrew ng!: https://www.youtube.com/watch?v=dzuuNPmGAVU ~ explains how and when to use SVM\n",
      "\n",
      "A paper using svm and python... TODO: read this:\n",
      "\n",
      "http://www.csie.ntu.edu.tw/~cjlin/papers/guide/guide.pdf\n",
      "\n",
      "> The support vector machine (SVM) is a popular classi\ufb01cation technique.\n",
      "However, beginners who are not familiar with SVM often get unsatisfactory\n",
      "results since they miss some easy but signi\ufb01cant steps. In this guide, we propose\n",
      "a simple procedure which usually gives reasonable results.\n",
      "\n",
      "But surely I won't...\n",
      "\n",
      "lets read through it...\n",
      "\n",
      "> We propose that beginners try the following procedure \ufb01rst:\n",
      "1. Transform data to the format of an SVM package\n",
      "2. Conduct simple scaling on the data\n",
      "3. Consider the RBF kernel K(x, y) = e\n",
      "\u2212\u03b3kx\u2212yk\n",
      "2\n",
      "4. Use cross-validation to \ufb01nd the best parameter C and \u03b3\n",
      "5. Use the best parameter C and \u03b3 to train the whole training set5\n",
      "6. Test\n",
      "We discuss this procedure in detail in the following sections.\n",
      "\n",
      "The following paper discuess that in detail. That sounds grand but maybe we don't have time for that... Also i'm worried this might not be the same algorithm as our sk-learn one. Lets find more out about that..\n",
      "\n",
      "Here we see an example: https://scipy-lectures.github.io/advanced/scikit-learn/ at 2.11.1.1\n",
      "\n",
      "also helpful we get some notation and another example: http://nbviewer.ipython.org/url/astroml.github.com/sklearn_tutorial/_downloads/02_iris_classification.ipynb"
     ]
    },
    {
     "cell_type": "heading",
     "level": 2,
     "metadata": {},
     "source": [
      "lets see if we have a rough idea of how linear svc works...."
     ]
    },
    {
     "cell_type": "code",
     "collapsed": false,
     "input": [
      "from sklearn.svm import LinearSVC"
     ],
     "language": "python",
     "metadata": {},
     "outputs": [],
     "prompt_number": 72
    },
    {
     "cell_type": "markdown",
     "metadata": {},
     "source": [
      "lets look at the docs..."
     ]
    },
    {
     "cell_type": "code",
     "collapsed": false,
     "input": [
      "LinearSVC? # run me to get the docs"
     ],
     "language": "python",
     "metadata": {},
     "outputs": [],
     "prompt_number": 73
    },
    {
     "cell_type": "markdown",
     "metadata": {},
     "source": [
      "here is a sample, simple run the cell again to have them appear...\n",
      "\n",
      "> Init definition: LinearSVC(self, penalty='l2', loss='l2', dual=True, tol=0.0001, C=1.0, multi_class='ovr', fit_intercept=True, intercept_scaling=1, class_weight=None, verbose=0, random_state=None)\n",
      "Docstring:\n",
      "Linear Support Vector Classification.\n",
      "\n",
      ">Similar to SVC with parameter kernel='linear', but implemented in terms of\n",
      "liblinear rather than libsvm, so it has more flexibility in the choice of\n",
      "penalties and loss functions and should scale better (to large numbers of\n",
      "samples)."
     ]
    },
    {
     "cell_type": "code",
     "collapsed": false,
     "input": [
      "iris_clf = LinearSVC(loss = 'l2')\n",
      "#l2 is the squared hinge loss... I don't know what that is."
     ],
     "language": "python",
     "metadata": {},
     "outputs": [],
     "prompt_number": 290
    },
    {
     "cell_type": "markdown",
     "metadata": {},
     "source": [
      "clf is a statistical model that has parameters that control the learning algorithm (those parameters are sometimes called the hyperparameters). Those hyperparameters can be supplied by the user in the constructor of the model. We will explain later how to choose a good combination using either simple empirical rules or data driven selection:"
     ]
    },
    {
     "cell_type": "code",
     "collapsed": false,
     "input": [
      "iris_clf\n"
     ],
     "language": "python",
     "metadata": {},
     "outputs": [
      {
       "metadata": {},
       "output_type": "pyout",
       "prompt_number": 75,
       "text": [
        "LinearSVC(C=1.0, class_weight=None, dual=True, fit_intercept=True,\n",
        "     intercept_scaling=1, loss='l2', multi_class='ovr', penalty='l2',\n",
        "     random_state=None, tol=0.0001, verbose=0)"
       ]
      }
     ],
     "prompt_number": 75
    },
    {
     "cell_type": "markdown",
     "metadata": {},
     "source": [
      "By default the model parameters are not initialized. They will be tuned automatically from the data by calling the fit method with the data X and labels y:\n",
      "\n"
     ]
    },
    {
     "cell_type": "markdown",
     "metadata": {},
     "source": [
      "we need some quick, clean data ... lets pull from the everyones favorite the iris data set."
     ]
    },
    {
     "cell_type": "code",
     "collapsed": false,
     "input": [
      "from sklearn.datasets import load_iris\n",
      "iris = load_iris()\n",
      "X_iris, y_iris = iris.data, iris.target\n",
      "\n"
     ],
     "language": "python",
     "metadata": {},
     "outputs": [],
     "prompt_number": 173
    },
    {
     "cell_type": "code",
     "collapsed": false,
     "input": [
      "X_iris.shape, y_iris.shape"
     ],
     "language": "python",
     "metadata": {},
     "outputs": [
      {
       "metadata": {},
       "output_type": "pyout",
       "prompt_number": 175,
       "text": [
        "((150, 4), (150,))"
       ]
      }
     ],
     "prompt_number": 175
    },
    {
     "cell_type": "code",
     "collapsed": false,
     "input": [
      "X_iris"
     ],
     "language": "python",
     "metadata": {},
     "outputs": [
      {
       "metadata": {},
       "output_type": "pyout",
       "prompt_number": 98,
       "text": [
        "array([[ 5.1,  3.5,  1.4,  0.2],\n",
        "       [ 4.9,  3. ,  1.4,  0.2],\n",
        "       [ 4.7,  3.2,  1.3,  0.2],\n",
        "       [ 4.6,  3.1,  1.5,  0.2],\n",
        "       [ 5. ,  3.6,  1.4,  0.2],\n",
        "       [ 5.4,  3.9,  1.7,  0.4],\n",
        "       [ 4.6,  3.4,  1.4,  0.3],\n",
        "       [ 5. ,  3.4,  1.5,  0.2],\n",
        "       [ 4.4,  2.9,  1.4,  0.2],\n",
        "       [ 4.9,  3.1,  1.5,  0.1],\n",
        "       [ 5.4,  3.7,  1.5,  0.2],\n",
        "       [ 4.8,  3.4,  1.6,  0.2],\n",
        "       [ 4.8,  3. ,  1.4,  0.1],\n",
        "       [ 4.3,  3. ,  1.1,  0.1],\n",
        "       [ 5.8,  4. ,  1.2,  0.2],\n",
        "       [ 5.7,  4.4,  1.5,  0.4],\n",
        "       [ 5.4,  3.9,  1.3,  0.4],\n",
        "       [ 5.1,  3.5,  1.4,  0.3],\n",
        "       [ 5.7,  3.8,  1.7,  0.3],\n",
        "       [ 5.1,  3.8,  1.5,  0.3],\n",
        "       [ 5.4,  3.4,  1.7,  0.2],\n",
        "       [ 5.1,  3.7,  1.5,  0.4],\n",
        "       [ 4.6,  3.6,  1. ,  0.2],\n",
        "       [ 5.1,  3.3,  1.7,  0.5],\n",
        "       [ 4.8,  3.4,  1.9,  0.2],\n",
        "       [ 5. ,  3. ,  1.6,  0.2],\n",
        "       [ 5. ,  3.4,  1.6,  0.4],\n",
        "       [ 5.2,  3.5,  1.5,  0.2],\n",
        "       [ 5.2,  3.4,  1.4,  0.2],\n",
        "       [ 4.7,  3.2,  1.6,  0.2],\n",
        "       [ 4.8,  3.1,  1.6,  0.2],\n",
        "       [ 5.4,  3.4,  1.5,  0.4],\n",
        "       [ 5.2,  4.1,  1.5,  0.1],\n",
        "       [ 5.5,  4.2,  1.4,  0.2],\n",
        "       [ 4.9,  3.1,  1.5,  0.1],\n",
        "       [ 5. ,  3.2,  1.2,  0.2],\n",
        "       [ 5.5,  3.5,  1.3,  0.2],\n",
        "       [ 4.9,  3.1,  1.5,  0.1],\n",
        "       [ 4.4,  3. ,  1.3,  0.2],\n",
        "       [ 5.1,  3.4,  1.5,  0.2],\n",
        "       [ 5. ,  3.5,  1.3,  0.3],\n",
        "       [ 4.5,  2.3,  1.3,  0.3],\n",
        "       [ 4.4,  3.2,  1.3,  0.2],\n",
        "       [ 5. ,  3.5,  1.6,  0.6],\n",
        "       [ 5.1,  3.8,  1.9,  0.4],\n",
        "       [ 4.8,  3. ,  1.4,  0.3],\n",
        "       [ 5.1,  3.8,  1.6,  0.2],\n",
        "       [ 4.6,  3.2,  1.4,  0.2],\n",
        "       [ 5.3,  3.7,  1.5,  0.2],\n",
        "       [ 5. ,  3.3,  1.4,  0.2],\n",
        "       [ 7. ,  3.2,  4.7,  1.4],\n",
        "       [ 6.4,  3.2,  4.5,  1.5],\n",
        "       [ 6.9,  3.1,  4.9,  1.5],\n",
        "       [ 5.5,  2.3,  4. ,  1.3],\n",
        "       [ 6.5,  2.8,  4.6,  1.5],\n",
        "       [ 5.7,  2.8,  4.5,  1.3],\n",
        "       [ 6.3,  3.3,  4.7,  1.6],\n",
        "       [ 4.9,  2.4,  3.3,  1. ],\n",
        "       [ 6.6,  2.9,  4.6,  1.3],\n",
        "       [ 5.2,  2.7,  3.9,  1.4],\n",
        "       [ 5. ,  2. ,  3.5,  1. ],\n",
        "       [ 5.9,  3. ,  4.2,  1.5],\n",
        "       [ 6. ,  2.2,  4. ,  1. ],\n",
        "       [ 6.1,  2.9,  4.7,  1.4],\n",
        "       [ 5.6,  2.9,  3.6,  1.3],\n",
        "       [ 6.7,  3.1,  4.4,  1.4],\n",
        "       [ 5.6,  3. ,  4.5,  1.5],\n",
        "       [ 5.8,  2.7,  4.1,  1. ],\n",
        "       [ 6.2,  2.2,  4.5,  1.5],\n",
        "       [ 5.6,  2.5,  3.9,  1.1],\n",
        "       [ 5.9,  3.2,  4.8,  1.8],\n",
        "       [ 6.1,  2.8,  4. ,  1.3],\n",
        "       [ 6.3,  2.5,  4.9,  1.5],\n",
        "       [ 6.1,  2.8,  4.7,  1.2],\n",
        "       [ 6.4,  2.9,  4.3,  1.3],\n",
        "       [ 6.6,  3. ,  4.4,  1.4],\n",
        "       [ 6.8,  2.8,  4.8,  1.4],\n",
        "       [ 6.7,  3. ,  5. ,  1.7],\n",
        "       [ 6. ,  2.9,  4.5,  1.5],\n",
        "       [ 5.7,  2.6,  3.5,  1. ],\n",
        "       [ 5.5,  2.4,  3.8,  1.1],\n",
        "       [ 5.5,  2.4,  3.7,  1. ],\n",
        "       [ 5.8,  2.7,  3.9,  1.2],\n",
        "       [ 6. ,  2.7,  5.1,  1.6],\n",
        "       [ 5.4,  3. ,  4.5,  1.5],\n",
        "       [ 6. ,  3.4,  4.5,  1.6],\n",
        "       [ 6.7,  3.1,  4.7,  1.5],\n",
        "       [ 6.3,  2.3,  4.4,  1.3],\n",
        "       [ 5.6,  3. ,  4.1,  1.3],\n",
        "       [ 5.5,  2.5,  4. ,  1.3],\n",
        "       [ 5.5,  2.6,  4.4,  1.2],\n",
        "       [ 6.1,  3. ,  4.6,  1.4],\n",
        "       [ 5.8,  2.6,  4. ,  1.2],\n",
        "       [ 5. ,  2.3,  3.3,  1. ],\n",
        "       [ 5.6,  2.7,  4.2,  1.3],\n",
        "       [ 5.7,  3. ,  4.2,  1.2],\n",
        "       [ 5.7,  2.9,  4.2,  1.3],\n",
        "       [ 6.2,  2.9,  4.3,  1.3],\n",
        "       [ 5.1,  2.5,  3. ,  1.1],\n",
        "       [ 5.7,  2.8,  4.1,  1.3],\n",
        "       [ 6.3,  3.3,  6. ,  2.5],\n",
        "       [ 5.8,  2.7,  5.1,  1.9],\n",
        "       [ 7.1,  3. ,  5.9,  2.1],\n",
        "       [ 6.3,  2.9,  5.6,  1.8],\n",
        "       [ 6.5,  3. ,  5.8,  2.2],\n",
        "       [ 7.6,  3. ,  6.6,  2.1],\n",
        "       [ 4.9,  2.5,  4.5,  1.7],\n",
        "       [ 7.3,  2.9,  6.3,  1.8],\n",
        "       [ 6.7,  2.5,  5.8,  1.8],\n",
        "       [ 7.2,  3.6,  6.1,  2.5],\n",
        "       [ 6.5,  3.2,  5.1,  2. ],\n",
        "       [ 6.4,  2.7,  5.3,  1.9],\n",
        "       [ 6.8,  3. ,  5.5,  2.1],\n",
        "       [ 5.7,  2.5,  5. ,  2. ],\n",
        "       [ 5.8,  2.8,  5.1,  2.4],\n",
        "       [ 6.4,  3.2,  5.3,  2.3],\n",
        "       [ 6.5,  3. ,  5.5,  1.8],\n",
        "       [ 7.7,  3.8,  6.7,  2.2],\n",
        "       [ 7.7,  2.6,  6.9,  2.3],\n",
        "       [ 6. ,  2.2,  5. ,  1.5],\n",
        "       [ 6.9,  3.2,  5.7,  2.3],\n",
        "       [ 5.6,  2.8,  4.9,  2. ],\n",
        "       [ 7.7,  2.8,  6.7,  2. ],\n",
        "       [ 6.3,  2.7,  4.9,  1.8],\n",
        "       [ 6.7,  3.3,  5.7,  2.1],\n",
        "       [ 7.2,  3.2,  6. ,  1.8],\n",
        "       [ 6.2,  2.8,  4.8,  1.8],\n",
        "       [ 6.1,  3. ,  4.9,  1.8],\n",
        "       [ 6.4,  2.8,  5.6,  2.1],\n",
        "       [ 7.2,  3. ,  5.8,  1.6],\n",
        "       [ 7.4,  2.8,  6.1,  1.9],\n",
        "       [ 7.9,  3.8,  6.4,  2. ],\n",
        "       [ 6.4,  2.8,  5.6,  2.2],\n",
        "       [ 6.3,  2.8,  5.1,  1.5],\n",
        "       [ 6.1,  2.6,  5.6,  1.4],\n",
        "       [ 7.7,  3. ,  6.1,  2.3],\n",
        "       [ 6.3,  3.4,  5.6,  2.4],\n",
        "       [ 6.4,  3.1,  5.5,  1.8],\n",
        "       [ 6. ,  3. ,  4.8,  1.8],\n",
        "       [ 6.9,  3.1,  5.4,  2.1],\n",
        "       [ 6.7,  3.1,  5.6,  2.4],\n",
        "       [ 6.9,  3.1,  5.1,  2.3],\n",
        "       [ 5.8,  2.7,  5.1,  1.9],\n",
        "       [ 6.8,  3.2,  5.9,  2.3],\n",
        "       [ 6.7,  3.3,  5.7,  2.5],\n",
        "       [ 6.7,  3. ,  5.2,  2.3],\n",
        "       [ 6.3,  2.5,  5. ,  1.9],\n",
        "       [ 6.5,  3. ,  5.2,  2. ],\n",
        "       [ 6.2,  3.4,  5.4,  2.3],\n",
        "       [ 5.9,  3. ,  5.1,  1.8]])"
       ]
      }
     ],
     "prompt_number": 98
    },
    {
     "cell_type": "code",
     "collapsed": false,
     "input": [],
     "language": "python",
     "metadata": {},
     "outputs": [
      {
       "ename": "TypeError",
       "evalue": "'numpy.dtype' object is not callable",
       "output_type": "pyerr",
       "traceback": [
        "\u001b[1;31m---------------------------------------------------------------------------\u001b[0m\n\u001b[1;31mTypeError\u001b[0m                                 Traceback (most recent call last)",
        "\u001b[1;32m<ipython-input-191-2356b28181d4>\u001b[0m in \u001b[0;36m<module>\u001b[1;34m()\u001b[0m\n\u001b[1;32m----> 1\u001b[1;33m \u001b[0mX_iris\u001b[0m\u001b[1;33m.\u001b[0m\u001b[0mdtype\u001b[0m\u001b[1;33m(\u001b[0m\u001b[0mnames\u001b[0m\u001b[1;33m=\u001b[0m\u001b[0mTrue\u001b[0m\u001b[1;33m)\u001b[0m\u001b[1;33m\u001b[0m\u001b[0m\n\u001b[0m",
        "\u001b[1;31mTypeError\u001b[0m: 'numpy.dtype' object is not callable"
       ]
      }
     ],
     "prompt_number": 191
    },
    {
     "cell_type": "code",
     "collapsed": false,
     "input": [
      "y_iris"
     ],
     "language": "python",
     "metadata": {},
     "outputs": [
      {
       "metadata": {},
       "output_type": "pyout",
       "prompt_number": 96,
       "text": [
        "array([0, 0, 0, 0, 0, 0, 0, 0, 0, 0, 0, 0, 0, 0, 0, 0, 0, 0, 0, 0, 0, 0, 0,\n",
        "       0, 0, 0, 0, 0, 0, 0, 0, 0, 0, 0, 0, 0, 0, 0, 0, 0, 0, 0, 0, 0, 0, 0,\n",
        "       0, 0, 0, 0, 1, 1, 1, 1, 1, 1, 1, 1, 1, 1, 1, 1, 1, 1, 1, 1, 1, 1, 1,\n",
        "       1, 1, 1, 1, 1, 1, 1, 1, 1, 1, 1, 1, 1, 1, 1, 1, 1, 1, 1, 1, 1, 1, 1,\n",
        "       1, 1, 1, 1, 1, 1, 1, 1, 2, 2, 2, 2, 2, 2, 2, 2, 2, 2, 2, 2, 2, 2, 2,\n",
        "       2, 2, 2, 2, 2, 2, 2, 2, 2, 2, 2, 2, 2, 2, 2, 2, 2, 2, 2, 2, 2, 2, 2,\n",
        "       2, 2, 2, 2, 2, 2, 2, 2, 2, 2, 2, 2])"
       ]
      }
     ],
     "prompt_number": 96
    },
    {
     "cell_type": "markdown",
     "metadata": {},
     "source": [
      "So now lets train and explore..."
     ]
    },
    {
     "cell_type": "code",
     "collapsed": false,
     "input": [
      "iris_clf = iris_clf.fit(X, y)"
     ],
     "language": "python",
     "metadata": {},
     "outputs": [
      {
       "ename": "NameError",
       "evalue": "name 'iris_clf' is not defined",
       "output_type": "pyerr",
       "traceback": [
        "\u001b[1;31m---------------------------------------------------------------------------\u001b[0m\n\u001b[1;31mNameError\u001b[0m                                 Traceback (most recent call last)",
        "\u001b[1;32m<ipython-input-289-7f3e881bb8fb>\u001b[0m in \u001b[0;36m<module>\u001b[1;34m()\u001b[0m\n\u001b[1;32m----> 1\u001b[1;33m \u001b[0miris_clf\u001b[0m \u001b[1;33m=\u001b[0m \u001b[0miris_clf\u001b[0m\u001b[1;33m.\u001b[0m\u001b[0mfit\u001b[0m\u001b[1;33m(\u001b[0m\u001b[0mX\u001b[0m\u001b[1;33m,\u001b[0m \u001b[0my\u001b[0m\u001b[1;33m)\u001b[0m\u001b[1;33m\u001b[0m\u001b[0m\n\u001b[0m",
        "\u001b[1;31mNameError\u001b[0m: name 'iris_clf' is not defined"
       ]
      }
     ],
     "prompt_number": 289
    },
    {
     "cell_type": "code",
     "collapsed": false,
     "input": [
      "iris_clf.intercept_"
     ],
     "language": "python",
     "metadata": {},
     "outputs": [
      {
       "metadata": {},
       "output_type": "pyout",
       "prompt_number": 82,
       "text": [
        "array([ 0.10956182,  1.67149074, -1.70969795])"
       ]
      }
     ],
     "prompt_number": 82
    },
    {
     "cell_type": "code",
     "collapsed": false,
     "input": [
      "iris_clf.coef_"
     ],
     "language": "python",
     "metadata": {},
     "outputs": [
      {
       "metadata": {},
       "output_type": "pyout",
       "prompt_number": 83,
       "text": [
        "array([[ 0.18423799,  0.45122947, -0.80793955, -0.45071326],\n",
        "       [ 0.0522653 , -0.89460088,  0.40521519, -0.9378637 ],\n",
        "       [-0.85076239, -0.9866926 ,  1.38107709,  1.86529985]])"
       ]
      }
     ],
     "prompt_number": 83
    },
    {
     "cell_type": "markdown",
     "metadata": {},
     "source": [
      "\n",
      "Once the model is trained, it can be used to predict the most likely outcome on unseen data. For instance let us define a list of simple sample that looks like the first sample of the iris dataset:"
     ]
    },
    {
     "cell_type": "code",
     "collapsed": false,
     "input": [
      "X_new = [[ 5.0,  3.6,  1.3,  0.25]]\n",
      "\n",
      "iris_clf.predict(X_new)"
     ],
     "language": "python",
     "metadata": {},
     "outputs": [
      {
       "metadata": {},
       "output_type": "pyout",
       "prompt_number": 84,
       "text": [
        "array([0])"
       ]
      }
     ],
     "prompt_number": 84
    },
    {
     "cell_type": "markdown",
     "metadata": {},
     "source": [
      "This sems resonable"
     ]
    },
    {
     "cell_type": "heading",
     "level": 2,
     "metadata": {},
     "source": [
      "What did we learn? TODO"
     ]
    },
    {
     "cell_type": "heading",
     "level": 2,
     "metadata": {},
     "source": [
      "Transform data to fit our package"
     ]
    },
    {
     "cell_type": "markdown",
     "metadata": {},
     "source": [
      "first lets make our own clf\n"
     ]
    },
    {
     "cell_type": "code",
     "collapsed": false,
     "input": [
      "clf = LinearSVC(loss = 'l2')"
     ],
     "language": "python",
     "metadata": {},
     "outputs": [],
     "prompt_number": 291
    },
    {
     "cell_type": "markdown",
     "metadata": {},
     "source": [
      "Lets try svm with one feature \"students_reached\" which is described as students_reached - number of students impacted by a project (if funded)"
     ]
    },
    {
     "cell_type": "markdown",
     "metadata": {},
     "source": [
      "lets take a look at that column"
     ]
    },
    {
     "cell_type": "code",
     "collapsed": false,
     "input": [
      "train.students_reached.head(5)"
     ],
     "language": "python",
     "metadata": {},
     "outputs": [
      {
       "metadata": {},
       "output_type": "pyout",
       "prompt_number": 93,
       "text": [
        "date_posted\n",
        "2014-01-01     100\n",
        "2014-01-01     198\n",
        "2014-01-01      28\n",
        "2014-01-01      15\n",
        "2014-01-01      21\n",
        "Name: students_reached, dtype: float64"
       ]
      }
     ],
     "prompt_number": 93
    },
    {
     "cell_type": "code",
     "collapsed": false,
     "input": [
      "test.students_reached.head(5)"
     ],
     "language": "python",
     "metadata": {},
     "outputs": [
      {
       "metadata": {},
       "output_type": "pyout",
       "prompt_number": 95,
       "text": [
        "date_posted\n",
        "2014-05-12     32\n",
        "2014-05-12     22\n",
        "2014-05-11     17\n",
        "2014-05-11     12\n",
        "2014-05-11     24\n",
        "Name: students_reached, dtype: float64"
       ]
      }
     ],
     "prompt_number": 95
    },
    {
     "cell_type": "markdown",
     "metadata": {},
     "source": [
      "Thats as we would expect...\n"
     ]
    },
    {
     "cell_type": "markdown",
     "metadata": {},
     "source": [
      "lets find the average in our train..."
     ]
    },
    {
     "cell_type": "code",
     "collapsed": false,
     "input": [
      "test.students_reached.describe()"
     ],
     "language": "python",
     "metadata": {},
     "outputs": [
      {
       "metadata": {},
       "output_type": "pyout",
       "prompt_number": 99,
       "text": [
        "count    44770.000000\n",
        "mean        94.383449\n",
        "std        154.550441\n",
        "min          1.000000\n",
        "25%         22.000000\n",
        "50%         30.000000\n",
        "75%        100.000000\n",
        "max        999.000000\n",
        "dtype: float64"
       ]
      }
     ],
     "prompt_number": 99
    },
    {
     "cell_type": "markdown",
     "metadata": {},
     "source": [
      "the mean is 94. We might want to dive deeper and explore the std, normalize etc... but not right now."
     ]
    },
    {
     "cell_type": "markdown",
     "metadata": {},
     "source": [
      "Right now it should occure us that to fit our model we need to join our train to the outcomes train table..."
     ]
    },
    {
     "cell_type": "code",
     "collapsed": false,
     "input": [
      "outcomes = pd.read_csv(\"data/outcomes.csv\")"
     ],
     "language": "python",
     "metadata": {},
     "outputs": [],
     "prompt_number": 103
    },
    {
     "cell_type": "code",
     "collapsed": false,
     "input": [
      "outcomes"
     ],
     "language": "python",
     "metadata": {},
     "outputs": [
      {
       "metadata": {},
       "output_type": "pyout",
       "prompt_number": 104,
       "text": [
        "<class 'pandas.core.frame.DataFrame'>\n",
        "Int64Index: 619326 entries, 0 to 619325\n",
        "Data columns (total 12 columns):\n",
        "projectid                                         619326  non-null values\n",
        "is_exciting                                       619326  non-null values\n",
        "at_least_1_teacher_referred_donor                 524928  non-null values\n",
        "fully_funded                                      619326  non-null values\n",
        "at_least_1_green_donation                         524928  non-null values\n",
        "great_chat                                        619326  non-null values\n",
        "three_or_more_non_teacher_referred_donors         524928  non-null values\n",
        "one_non_teacher_referred_donor_giving_100_plus    524928  non-null values\n",
        "donation_from_thoughtful_donor                    524928  non-null values\n",
        "great_messages_proportion                         439487  non-null values\n",
        "teacher_referred_count                            524928  non-null values\n",
        "non_teacher_referred_count                        524928  non-null values\n",
        "dtypes: float64(3), object(9)"
       ]
      }
     ],
     "prompt_number": 104
    },
    {
     "cell_type": "markdown",
     "metadata": {},
     "source": [
      "Lets see if we can just join our training data to this new DF. We want to inner join on the project_id so we get those with  ids with both... which should be all of those we want in our training set."
     ]
    },
    {
     "cell_type": "code",
     "collapsed": false,
     "input": [
      "#TODO: we lost the index here, we might want that or not as the index might make it harder to fit in our algorithm\n",
      "train = train.merge(outcomes, how=\"inner\", on=\"projectid\")"
     ],
     "language": "python",
     "metadata": {},
     "outputs": [],
     "prompt_number": 109
    },
    {
     "cell_type": "markdown",
     "metadata": {},
     "source": [
      "looks like we have all the columns... great but lets only keep students_reached, projectid and outcome."
     ]
    },
    {
     "cell_type": "code",
     "collapsed": false,
     "input": [
      "\n",
      "simple_train = pd.DataFrame.from_dict({\"projectid\": train.projectid, \"students_reached\": train.students_reached, \"is_exciting\": train.is_exciting})"
     ],
     "language": "python",
     "metadata": {},
     "outputs": [],
     "prompt_number": 138
    },
    {
     "cell_type": "code",
     "collapsed": false,
     "input": [
      "simple_train"
     ],
     "language": "python",
     "metadata": {},
     "outputs": [
      {
       "metadata": {},
       "output_type": "pyout",
       "prompt_number": 139,
       "text": [
        "<class 'pandas.core.frame.DataFrame'>\n",
        "Int64Index: 619326 entries, 0 to 619325\n",
        "Data columns (total 3 columns):\n",
        "is_exciting         619326  non-null values\n",
        "projectid           619326  non-null values\n",
        "students_reached    619182  non-null values\n",
        "dtypes: float64(1), object(2)"
       ]
      }
     ],
     "prompt_number": 139
    },
    {
     "cell_type": "code",
     "collapsed": false,
     "input": [
      "train.students_reached.sum()"
     ],
     "language": "python",
     "metadata": {},
     "outputs": [
      {
       "metadata": {},
       "output_type": "pyout",
       "prompt_number": 140,
       "text": [
        "60332861.0"
       ]
      }
     ],
     "prompt_number": 140
    },
    {
     "cell_type": "code",
     "collapsed": false,
     "input": [
      "simple_train.students_reached.sum()"
     ],
     "language": "python",
     "metadata": {},
     "outputs": [
      {
       "metadata": {},
       "output_type": "pyout",
       "prompt_number": 141,
       "text": [
        "60332861.0"
       ]
      }
     ],
     "prompt_number": 141
    },
    {
     "cell_type": "markdown",
     "metadata": {},
     "source": [
      "Now we have isolated our train to just three columns. Lets start by just fitting on the the students reached column and work backwords..."
     ]
    },
    {
     "cell_type": "markdown",
     "metadata": {},
     "source": [
      "override our iris data.."
     ]
    },
    {
     "cell_type": "code",
     "collapsed": false,
     "input": [
      "X, y = simple_train.students_reached, simple_train.is_exciting"
     ],
     "language": "python",
     "metadata": {},
     "outputs": [],
     "prompt_number": 149
    },
    {
     "cell_type": "code",
     "collapsed": false,
     "input": [
      "clf.fit(X, y)"
     ],
     "language": "python",
     "metadata": {},
     "outputs": [
      {
       "ename": "ValueError",
       "evalue": "Array contains NaN or infinity.",
       "output_type": "pyerr",
       "traceback": [
        "\u001b[1;31m---------------------------------------------------------------------------\u001b[0m\n\u001b[1;31mValueError\u001b[0m                                Traceback (most recent call last)",
        "\u001b[1;32m<ipython-input-150-1a154f38b9fb>\u001b[0m in \u001b[0;36m<module>\u001b[1;34m()\u001b[0m\n\u001b[1;32m----> 1\u001b[1;33m \u001b[0mclf\u001b[0m\u001b[1;33m.\u001b[0m\u001b[0mfit\u001b[0m\u001b[1;33m(\u001b[0m\u001b[0mX\u001b[0m\u001b[1;33m,\u001b[0m \u001b[0my\u001b[0m\u001b[1;33m)\u001b[0m\u001b[1;33m\u001b[0m\u001b[0m\n\u001b[0m",
        "\u001b[1;32m/usr/local/lib/python2.7/dist-packages/sklearn/svm/base.pyc\u001b[0m in \u001b[0;36mfit\u001b[1;34m(self, X, y)\u001b[0m\n\u001b[0;32m    666\u001b[0m                              \" one.\")\n\u001b[0;32m    667\u001b[0m \u001b[1;33m\u001b[0m\u001b[0m\n\u001b[1;32m--> 668\u001b[1;33m         \u001b[0mX\u001b[0m \u001b[1;33m=\u001b[0m \u001b[0matleast2d_or_csr\u001b[0m\u001b[1;33m(\u001b[0m\u001b[0mX\u001b[0m\u001b[1;33m,\u001b[0m \u001b[0mdtype\u001b[0m\u001b[1;33m=\u001b[0m\u001b[0mnp\u001b[0m\u001b[1;33m.\u001b[0m\u001b[0mfloat64\u001b[0m\u001b[1;33m,\u001b[0m \u001b[0morder\u001b[0m\u001b[1;33m=\u001b[0m\u001b[1;34m\"C\"\u001b[0m\u001b[1;33m)\u001b[0m\u001b[1;33m\u001b[0m\u001b[0m\n\u001b[0m\u001b[0;32m    669\u001b[0m \u001b[1;33m\u001b[0m\u001b[0m\n\u001b[0;32m    670\u001b[0m         self.class_weight_ = compute_class_weight(self.class_weight,\n",
        "\u001b[1;32m/usr/local/lib/python2.7/dist-packages/sklearn/utils/validation.pyc\u001b[0m in \u001b[0;36matleast2d_or_csr\u001b[1;34m(X, dtype, order, copy, force_all_finite)\u001b[0m\n\u001b[0;32m    132\u001b[0m     \"\"\"\n\u001b[0;32m    133\u001b[0m     return _atleast2d_or_sparse(X, dtype, order, copy, sparse.csr_matrix,\n\u001b[1;32m--> 134\u001b[1;33m                                 \"tocsr\", force_all_finite)\n\u001b[0m\u001b[0;32m    135\u001b[0m \u001b[1;33m\u001b[0m\u001b[0m\n\u001b[0;32m    136\u001b[0m \u001b[1;33m\u001b[0m\u001b[0m\n",
        "\u001b[1;32m/usr/local/lib/python2.7/dist-packages/sklearn/utils/validation.pyc\u001b[0m in \u001b[0;36m_atleast2d_or_sparse\u001b[1;34m(X, dtype, order, copy, sparse_class, convmethod, force_all_finite)\u001b[0m\n\u001b[0;32m    109\u001b[0m     \u001b[1;32melse\u001b[0m\u001b[1;33m:\u001b[0m\u001b[1;33m\u001b[0m\u001b[0m\n\u001b[0;32m    110\u001b[0m         X = array2d(X, dtype=dtype, order=order, copy=copy,\n\u001b[1;32m--> 111\u001b[1;33m                     force_all_finite=force_all_finite)\n\u001b[0m\u001b[0;32m    112\u001b[0m         \u001b[1;32mif\u001b[0m \u001b[0mforce_all_finite\u001b[0m\u001b[1;33m:\u001b[0m\u001b[1;33m\u001b[0m\u001b[0m\n\u001b[0;32m    113\u001b[0m             \u001b[0m_assert_all_finite\u001b[0m\u001b[1;33m(\u001b[0m\u001b[0mX\u001b[0m\u001b[1;33m)\u001b[0m\u001b[1;33m\u001b[0m\u001b[0m\n",
        "\u001b[1;32m/usr/local/lib/python2.7/dist-packages/sklearn/utils/validation.pyc\u001b[0m in \u001b[0;36marray2d\u001b[1;34m(X, dtype, order, copy, force_all_finite)\u001b[0m\n\u001b[0;32m     91\u001b[0m     \u001b[0mX_2d\u001b[0m \u001b[1;33m=\u001b[0m \u001b[0mnp\u001b[0m\u001b[1;33m.\u001b[0m\u001b[0masarray\u001b[0m\u001b[1;33m(\u001b[0m\u001b[0mnp\u001b[0m\u001b[1;33m.\u001b[0m\u001b[0matleast_2d\u001b[0m\u001b[1;33m(\u001b[0m\u001b[0mX\u001b[0m\u001b[1;33m)\u001b[0m\u001b[1;33m,\u001b[0m \u001b[0mdtype\u001b[0m\u001b[1;33m=\u001b[0m\u001b[0mdtype\u001b[0m\u001b[1;33m,\u001b[0m \u001b[0morder\u001b[0m\u001b[1;33m=\u001b[0m\u001b[0morder\u001b[0m\u001b[1;33m)\u001b[0m\u001b[1;33m\u001b[0m\u001b[0m\n\u001b[0;32m     92\u001b[0m     \u001b[1;32mif\u001b[0m \u001b[0mforce_all_finite\u001b[0m\u001b[1;33m:\u001b[0m\u001b[1;33m\u001b[0m\u001b[0m\n\u001b[1;32m---> 93\u001b[1;33m         \u001b[0m_assert_all_finite\u001b[0m\u001b[1;33m(\u001b[0m\u001b[0mX_2d\u001b[0m\u001b[1;33m)\u001b[0m\u001b[1;33m\u001b[0m\u001b[0m\n\u001b[0m\u001b[0;32m     94\u001b[0m     \u001b[1;32mif\u001b[0m \u001b[0mX\u001b[0m \u001b[1;32mis\u001b[0m \u001b[0mX_2d\u001b[0m \u001b[1;32mand\u001b[0m \u001b[0mcopy\u001b[0m\u001b[1;33m:\u001b[0m\u001b[1;33m\u001b[0m\u001b[0m\n\u001b[0;32m     95\u001b[0m         \u001b[0mX_2d\u001b[0m \u001b[1;33m=\u001b[0m \u001b[0msafe_copy\u001b[0m\u001b[1;33m(\u001b[0m\u001b[0mX_2d\u001b[0m\u001b[1;33m)\u001b[0m\u001b[1;33m\u001b[0m\u001b[0m\n",
        "\u001b[1;32m/usr/local/lib/python2.7/dist-packages/sklearn/utils/validation.pyc\u001b[0m in \u001b[0;36m_assert_all_finite\u001b[1;34m(X)\u001b[0m\n\u001b[0;32m     25\u001b[0m     if (X.dtype.char in np.typecodes['AllFloat'] and not np.isfinite(X.sum())\n\u001b[0;32m     26\u001b[0m             and not np.isfinite(X).all()):\n\u001b[1;32m---> 27\u001b[1;33m         \u001b[1;32mraise\u001b[0m \u001b[0mValueError\u001b[0m\u001b[1;33m(\u001b[0m\u001b[1;34m\"Array contains NaN or infinity.\"\u001b[0m\u001b[1;33m)\u001b[0m\u001b[1;33m\u001b[0m\u001b[0m\n\u001b[0m\u001b[0;32m     28\u001b[0m \u001b[1;33m\u001b[0m\u001b[0m\n\u001b[0;32m     29\u001b[0m \u001b[1;33m\u001b[0m\u001b[0m\n",
        "\u001b[1;31mValueError\u001b[0m: Array contains NaN or infinity."
       ]
      }
     ],
     "prompt_number": 150
    },
    {
     "cell_type": "markdown",
     "metadata": {},
     "source": [
      "Hmmm looks like it contains Nan or infinity... how can we check that?"
     ]
    },
    {
     "cell_type": "code",
     "collapsed": false,
     "input": [
      "X[X.isnull()].shape\n"
     ],
     "language": "python",
     "metadata": {},
     "outputs": [
      {
       "metadata": {},
       "output_type": "pyout",
       "prompt_number": 155,
       "text": [
        "(144,)"
       ]
      }
     ],
     "prompt_number": 155
    },
    {
     "cell_type": "markdown",
     "metadata": {},
     "source": [
      "Let me explain the above method... X.isnull() returns a series of True or false values"
     ]
    },
    {
     "cell_type": "code",
     "collapsed": false,
     "input": [
      "X.isnull().head(4)"
     ],
     "language": "python",
     "metadata": {},
     "outputs": [
      {
       "metadata": {},
       "output_type": "pyout",
       "prompt_number": 156,
       "text": [
        "0    False\n",
        "1    False\n",
        "2    False\n",
        "3    False\n",
        "Name: students_reached, dtype: bool"
       ]
      }
     ],
     "prompt_number": 156
    },
    {
     "cell_type": "code",
     "collapsed": false,
     "input": [
      "type(X.isnull())"
     ],
     "language": "python",
     "metadata": {},
     "outputs": [
      {
       "metadata": {},
       "output_type": "pyout",
       "prompt_number": 157,
       "text": [
        "pandas.core.series.Series"
       ]
      }
     ],
     "prompt_number": 157
    },
    {
     "cell_type": "markdown",
     "metadata": {},
     "source": [
      "When you pass that series to another series it only returns where the values are true that is where they are null. "
     ]
    },
    {
     "cell_type": "markdown",
     "metadata": {},
     "source": [
      "We might want to explore WHY those values are null, maybe they are null around a certein time of year... some bit of info we could use. but were on a deadline so lets just ignore them.. by fililng them with 0's."
     ]
    },
    {
     "cell_type": "code",
     "collapsed": false,
     "input": [
      "X_without_na = X.fillna(0)"
     ],
     "language": "python",
     "metadata": {},
     "outputs": [],
     "prompt_number": 211
    },
    {
     "cell_type": "code",
     "collapsed": false,
     "input": [
      "X_without_na[X_without_na.isnull()].shape\n"
     ],
     "language": "python",
     "metadata": {},
     "outputs": [
      {
       "metadata": {},
       "output_type": "pyout",
       "prompt_number": 162,
       "text": [
        "(0,)"
       ]
      }
     ],
     "prompt_number": 162
    },
    {
     "cell_type": "markdown",
     "metadata": {},
     "source": [
      "Great looks like we filled in the missing values..."
     ]
    },
    {
     "cell_type": "markdown",
     "metadata": {},
     "source": [
      "lets do the same check on y"
     ]
    },
    {
     "cell_type": "code",
     "collapsed": false,
     "input": [
      "y[y.isnull()].shape"
     ],
     "language": "python",
     "metadata": {},
     "outputs": [
      {
       "metadata": {},
       "output_type": "pyout",
       "prompt_number": 165,
       "text": [
        "(0,)"
       ]
      }
     ],
     "prompt_number": 165
    },
    {
     "cell_type": "markdown",
     "metadata": {},
     "source": [
      "y looks like it has no nulls... as we would expect.. but it is a series of booleans.... we probable want that to be 1 or 0... lets try without."
     ]
    },
    {
     "cell_type": "code",
     "collapsed": false,
     "input": [
      "clf.fit(X_without_na, y)"
     ],
     "language": "python",
     "metadata": {},
     "outputs": [
      {
       "ename": "ValueError",
       "evalue": "X and y have incompatible shapes.\nX has 1 samples, but y has 619326.",
       "output_type": "pyerr",
       "traceback": [
        "\u001b[1;31m---------------------------------------------------------------------------\u001b[0m\n\u001b[1;31mValueError\u001b[0m                                Traceback (most recent call last)",
        "\u001b[1;32m<ipython-input-167-70dff04bc746>\u001b[0m in \u001b[0;36m<module>\u001b[1;34m()\u001b[0m\n\u001b[1;32m----> 1\u001b[1;33m \u001b[0mclf\u001b[0m\u001b[1;33m.\u001b[0m\u001b[0mfit\u001b[0m\u001b[1;33m(\u001b[0m\u001b[0mX_without_na\u001b[0m\u001b[1;33m,\u001b[0m \u001b[0my\u001b[0m\u001b[1;33m)\u001b[0m\u001b[1;33m\u001b[0m\u001b[0m\n\u001b[0m",
        "\u001b[1;32m/usr/local/lib/python2.7/dist-packages/sklearn/svm/base.pyc\u001b[0m in \u001b[0;36mfit\u001b[1;34m(self, X, y)\u001b[0m\n\u001b[0;32m    674\u001b[0m             raise ValueError(\"X and y have incompatible shapes.\\n\"\n\u001b[0;32m    675\u001b[0m                              \u001b[1;34m\"X has %s samples, but y has %s.\"\u001b[0m \u001b[1;33m%\u001b[0m\u001b[1;33m\u001b[0m\u001b[0m\n\u001b[1;32m--> 676\u001b[1;33m                              (X.shape[0], y.shape[0]))\n\u001b[0m\u001b[0;32m    677\u001b[0m \u001b[1;33m\u001b[0m\u001b[0m\n\u001b[0;32m    678\u001b[0m         \u001b[0mliblinear\u001b[0m\u001b[1;33m.\u001b[0m\u001b[0mset_verbosity_wrap\u001b[0m\u001b[1;33m(\u001b[0m\u001b[0mself\u001b[0m\u001b[1;33m.\u001b[0m\u001b[0mverbose\u001b[0m\u001b[1;33m)\u001b[0m\u001b[1;33m\u001b[0m\u001b[0m\n",
        "\u001b[1;31mValueError\u001b[0m: X and y have incompatible shapes.\nX has 1 samples, but y has 619326."
       ]
      }
     ],
     "prompt_number": 167
    },
    {
     "cell_type": "markdown",
     "metadata": {},
     "source": [
      "Huh... really lets check that.."
     ]
    },
    {
     "cell_type": "code",
     "collapsed": false,
     "input": [
      "X_without_na.shape"
     ],
     "language": "python",
     "metadata": {},
     "outputs": [
      {
       "metadata": {},
       "output_type": "pyout",
       "prompt_number": 170,
       "text": [
        "(619326,)"
       ]
      }
     ],
     "prompt_number": 170
    },
    {
     "cell_type": "code",
     "collapsed": false,
     "input": [
      "y.shape"
     ],
     "language": "python",
     "metadata": {},
     "outputs": [
      {
       "metadata": {},
       "output_type": "pyout",
       "prompt_number": 169,
       "text": [
        "(619326,)"
       ]
      }
     ],
     "prompt_number": 169
    },
    {
     "cell_type": "code",
     "collapsed": false,
     "input": [
      "X_without_na.shape == y.shape"
     ],
     "language": "python",
     "metadata": {},
     "outputs": [
      {
       "metadata": {},
       "output_type": "pyout",
       "prompt_number": 171,
       "text": [
        "True"
       ]
      }
     ],
     "prompt_number": 171
    },
    {
     "cell_type": "markdown",
     "metadata": {},
     "source": [
      "ok, so im confused. maybe it has to be an array?"
     ]
    },
    {
     "cell_type": "code",
     "collapsed": false,
     "input": [
      "clf.fit?"
     ],
     "language": "python",
     "metadata": {},
     "outputs": [],
     "prompt_number": 176
    },
    {
     "cell_type": "code",
     "collapsed": false,
     "input": [
      "X_without_na.shape[0]"
     ],
     "language": "python",
     "metadata": {},
     "outputs": [
      {
       "metadata": {},
       "output_type": "pyout",
       "prompt_number": 178,
       "text": [
        "619326"
       ]
      }
     ],
     "prompt_number": 178
    },
    {
     "cell_type": "code",
     "collapsed": false,
     "input": [
      "y.shape[0]"
     ],
     "language": "python",
     "metadata": {},
     "outputs": [
      {
       "metadata": {},
       "output_type": "pyout",
       "prompt_number": 179,
       "text": [
        "619326"
       ]
      }
     ],
     "prompt_number": 179
    },
    {
     "cell_type": "markdown",
     "metadata": {},
     "source": [
      "here is a google result on our error: \n",
      "\n",
      ">https://stackoverflow.com/questions/20647221/using-clf-fit-with-numpy-arrays-from-csv\n",
      "\n",
      "This leads me to believe our X and y needs to be a 2d array"
     ]
    },
    {
     "cell_type": "code",
     "collapsed": false,
     "input": [
      "X_without_na.dtype"
     ],
     "language": "python",
     "metadata": {},
     "outputs": [
      {
       "metadata": {},
       "output_type": "pyout",
       "prompt_number": 181,
       "text": [
        "dtype('float64')"
       ]
      }
     ],
     "prompt_number": 181
    },
    {
     "cell_type": "code",
     "collapsed": false,
     "input": [
      "y.dtype"
     ],
     "language": "python",
     "metadata": {},
     "outputs": [
      {
       "metadata": {},
       "output_type": "pyout",
       "prompt_number": 183,
       "text": [
        "dtype('O')"
       ]
      }
     ],
     "prompt_number": 183
    },
    {
     "cell_type": "code",
     "collapsed": false,
     "input": [
      "X_1d = np.array(X_without_na)"
     ],
     "language": "python",
     "metadata": {},
     "outputs": [],
     "prompt_number": 238
    },
    {
     "cell_type": "code",
     "collapsed": false,
     "input": [
      "y_1d = np.array(y.is_exciting)"
     ],
     "language": "python",
     "metadata": {},
     "outputs": [],
     "prompt_number": 246
    },
    {
     "cell_type": "code",
     "collapsed": false,
     "input": [
      "clf.fit(X_2d, y_2d)"
     ],
     "language": "python",
     "metadata": {},
     "outputs": [
      {
       "ename": "ValueError",
       "evalue": "X and y have incompatible shapes.\nX has 1 samples, but y has 619326.",
       "output_type": "pyerr",
       "traceback": [
        "\u001b[1;31m---------------------------------------------------------------------------\u001b[0m\n\u001b[1;31mValueError\u001b[0m                                Traceback (most recent call last)",
        "\u001b[1;32m<ipython-input-188-ebc52b4a9834>\u001b[0m in \u001b[0;36m<module>\u001b[1;34m()\u001b[0m\n\u001b[1;32m----> 1\u001b[1;33m \u001b[0mclf\u001b[0m\u001b[1;33m.\u001b[0m\u001b[0mfit\u001b[0m\u001b[1;33m(\u001b[0m\u001b[0mX_2d\u001b[0m\u001b[1;33m,\u001b[0m \u001b[0my_2d\u001b[0m\u001b[1;33m)\u001b[0m\u001b[1;33m\u001b[0m\u001b[0m\n\u001b[0m",
        "\u001b[1;32m/usr/local/lib/python2.7/dist-packages/sklearn/svm/base.pyc\u001b[0m in \u001b[0;36mfit\u001b[1;34m(self, X, y)\u001b[0m\n\u001b[0;32m    674\u001b[0m             raise ValueError(\"X and y have incompatible shapes.\\n\"\n\u001b[0;32m    675\u001b[0m                              \u001b[1;34m\"X has %s samples, but y has %s.\"\u001b[0m \u001b[1;33m%\u001b[0m\u001b[1;33m\u001b[0m\u001b[0m\n\u001b[1;32m--> 676\u001b[1;33m                              (X.shape[0], y.shape[0]))\n\u001b[0m\u001b[0;32m    677\u001b[0m \u001b[1;33m\u001b[0m\u001b[0m\n\u001b[0;32m    678\u001b[0m         \u001b[0mliblinear\u001b[0m\u001b[1;33m.\u001b[0m\u001b[0mset_verbosity_wrap\u001b[0m\u001b[1;33m(\u001b[0m\u001b[0mself\u001b[0m\u001b[1;33m.\u001b[0m\u001b[0mverbose\u001b[0m\u001b[1;33m)\u001b[0m\u001b[1;33m\u001b[0m\u001b[0m\n",
        "\u001b[1;31mValueError\u001b[0m: X and y have incompatible shapes.\nX has 1 samples, but y has 619326."
       ]
      }
     ],
     "prompt_number": 188
    },
    {
     "cell_type": "markdown",
     "metadata": {},
     "source": [
      "that doesnt solve the problem becaus we don't have a 2d array. I bet there is a really easy way to do this that i'm missing. Luckly I know enough python to force the issue. that is convert our array from 1d to 2d..."
     ]
    },
    {
     "cell_type": "code",
     "collapsed": false,
     "input": [
      "X_2d = np.array([[x] for x in X_1d])"
     ],
     "language": "python",
     "metadata": {},
     "outputs": [],
     "prompt_number": 241
    },
    {
     "cell_type": "code",
     "collapsed": false,
     "input": [
      "X_2d"
     ],
     "language": "python",
     "metadata": {},
     "outputs": [
      {
       "metadata": {},
       "output_type": "pyout",
       "prompt_number": 242,
       "text": [
        "array([[   7.],\n",
        "       [  30.],\n",
        "       [ 230.],\n",
        "       ..., \n",
        "       [   0.],\n",
        "       [   0.],\n",
        "       [   0.]])"
       ]
      }
     ],
     "prompt_number": 242
    },
    {
     "cell_type": "code",
     "collapsed": false,
     "input": [
      "X_iris"
     ],
     "language": "python",
     "metadata": {},
     "outputs": [
      {
       "metadata": {},
       "output_type": "pyout",
       "prompt_number": 268,
       "text": [
        "array([[ 5.1,  3.5,  1.4,  0.2],\n",
        "       [ 4.9,  3. ,  1.4,  0.2],\n",
        "       [ 4.7,  3.2,  1.3,  0.2],\n",
        "       [ 4.6,  3.1,  1.5,  0.2],\n",
        "       [ 5. ,  3.6,  1.4,  0.2],\n",
        "       [ 5.4,  3.9,  1.7,  0.4],\n",
        "       [ 4.6,  3.4,  1.4,  0.3],\n",
        "       [ 5. ,  3.4,  1.5,  0.2],\n",
        "       [ 4.4,  2.9,  1.4,  0.2],\n",
        "       [ 4.9,  3.1,  1.5,  0.1],\n",
        "       [ 5.4,  3.7,  1.5,  0.2],\n",
        "       [ 4.8,  3.4,  1.6,  0.2],\n",
        "       [ 4.8,  3. ,  1.4,  0.1],\n",
        "       [ 4.3,  3. ,  1.1,  0.1],\n",
        "       [ 5.8,  4. ,  1.2,  0.2],\n",
        "       [ 5.7,  4.4,  1.5,  0.4],\n",
        "       [ 5.4,  3.9,  1.3,  0.4],\n",
        "       [ 5.1,  3.5,  1.4,  0.3],\n",
        "       [ 5.7,  3.8,  1.7,  0.3],\n",
        "       [ 5.1,  3.8,  1.5,  0.3],\n",
        "       [ 5.4,  3.4,  1.7,  0.2],\n",
        "       [ 5.1,  3.7,  1.5,  0.4],\n",
        "       [ 4.6,  3.6,  1. ,  0.2],\n",
        "       [ 5.1,  3.3,  1.7,  0.5],\n",
        "       [ 4.8,  3.4,  1.9,  0.2],\n",
        "       [ 5. ,  3. ,  1.6,  0.2],\n",
        "       [ 5. ,  3.4,  1.6,  0.4],\n",
        "       [ 5.2,  3.5,  1.5,  0.2],\n",
        "       [ 5.2,  3.4,  1.4,  0.2],\n",
        "       [ 4.7,  3.2,  1.6,  0.2],\n",
        "       [ 4.8,  3.1,  1.6,  0.2],\n",
        "       [ 5.4,  3.4,  1.5,  0.4],\n",
        "       [ 5.2,  4.1,  1.5,  0.1],\n",
        "       [ 5.5,  4.2,  1.4,  0.2],\n",
        "       [ 4.9,  3.1,  1.5,  0.1],\n",
        "       [ 5. ,  3.2,  1.2,  0.2],\n",
        "       [ 5.5,  3.5,  1.3,  0.2],\n",
        "       [ 4.9,  3.1,  1.5,  0.1],\n",
        "       [ 4.4,  3. ,  1.3,  0.2],\n",
        "       [ 5.1,  3.4,  1.5,  0.2],\n",
        "       [ 5. ,  3.5,  1.3,  0.3],\n",
        "       [ 4.5,  2.3,  1.3,  0.3],\n",
        "       [ 4.4,  3.2,  1.3,  0.2],\n",
        "       [ 5. ,  3.5,  1.6,  0.6],\n",
        "       [ 5.1,  3.8,  1.9,  0.4],\n",
        "       [ 4.8,  3. ,  1.4,  0.3],\n",
        "       [ 5.1,  3.8,  1.6,  0.2],\n",
        "       [ 4.6,  3.2,  1.4,  0.2],\n",
        "       [ 5.3,  3.7,  1.5,  0.2],\n",
        "       [ 5. ,  3.3,  1.4,  0.2],\n",
        "       [ 7. ,  3.2,  4.7,  1.4],\n",
        "       [ 6.4,  3.2,  4.5,  1.5],\n",
        "       [ 6.9,  3.1,  4.9,  1.5],\n",
        "       [ 5.5,  2.3,  4. ,  1.3],\n",
        "       [ 6.5,  2.8,  4.6,  1.5],\n",
        "       [ 5.7,  2.8,  4.5,  1.3],\n",
        "       [ 6.3,  3.3,  4.7,  1.6],\n",
        "       [ 4.9,  2.4,  3.3,  1. ],\n",
        "       [ 6.6,  2.9,  4.6,  1.3],\n",
        "       [ 5.2,  2.7,  3.9,  1.4],\n",
        "       [ 5. ,  2. ,  3.5,  1. ],\n",
        "       [ 5.9,  3. ,  4.2,  1.5],\n",
        "       [ 6. ,  2.2,  4. ,  1. ],\n",
        "       [ 6.1,  2.9,  4.7,  1.4],\n",
        "       [ 5.6,  2.9,  3.6,  1.3],\n",
        "       [ 6.7,  3.1,  4.4,  1.4],\n",
        "       [ 5.6,  3. ,  4.5,  1.5],\n",
        "       [ 5.8,  2.7,  4.1,  1. ],\n",
        "       [ 6.2,  2.2,  4.5,  1.5],\n",
        "       [ 5.6,  2.5,  3.9,  1.1],\n",
        "       [ 5.9,  3.2,  4.8,  1.8],\n",
        "       [ 6.1,  2.8,  4. ,  1.3],\n",
        "       [ 6.3,  2.5,  4.9,  1.5],\n",
        "       [ 6.1,  2.8,  4.7,  1.2],\n",
        "       [ 6.4,  2.9,  4.3,  1.3],\n",
        "       [ 6.6,  3. ,  4.4,  1.4],\n",
        "       [ 6.8,  2.8,  4.8,  1.4],\n",
        "       [ 6.7,  3. ,  5. ,  1.7],\n",
        "       [ 6. ,  2.9,  4.5,  1.5],\n",
        "       [ 5.7,  2.6,  3.5,  1. ],\n",
        "       [ 5.5,  2.4,  3.8,  1.1],\n",
        "       [ 5.5,  2.4,  3.7,  1. ],\n",
        "       [ 5.8,  2.7,  3.9,  1.2],\n",
        "       [ 6. ,  2.7,  5.1,  1.6],\n",
        "       [ 5.4,  3. ,  4.5,  1.5],\n",
        "       [ 6. ,  3.4,  4.5,  1.6],\n",
        "       [ 6.7,  3.1,  4.7,  1.5],\n",
        "       [ 6.3,  2.3,  4.4,  1.3],\n",
        "       [ 5.6,  3. ,  4.1,  1.3],\n",
        "       [ 5.5,  2.5,  4. ,  1.3],\n",
        "       [ 5.5,  2.6,  4.4,  1.2],\n",
        "       [ 6.1,  3. ,  4.6,  1.4],\n",
        "       [ 5.8,  2.6,  4. ,  1.2],\n",
        "       [ 5. ,  2.3,  3.3,  1. ],\n",
        "       [ 5.6,  2.7,  4.2,  1.3],\n",
        "       [ 5.7,  3. ,  4.2,  1.2],\n",
        "       [ 5.7,  2.9,  4.2,  1.3],\n",
        "       [ 6.2,  2.9,  4.3,  1.3],\n",
        "       [ 5.1,  2.5,  3. ,  1.1],\n",
        "       [ 5.7,  2.8,  4.1,  1.3],\n",
        "       [ 6.3,  3.3,  6. ,  2.5],\n",
        "       [ 5.8,  2.7,  5.1,  1.9],\n",
        "       [ 7.1,  3. ,  5.9,  2.1],\n",
        "       [ 6.3,  2.9,  5.6,  1.8],\n",
        "       [ 6.5,  3. ,  5.8,  2.2],\n",
        "       [ 7.6,  3. ,  6.6,  2.1],\n",
        "       [ 4.9,  2.5,  4.5,  1.7],\n",
        "       [ 7.3,  2.9,  6.3,  1.8],\n",
        "       [ 6.7,  2.5,  5.8,  1.8],\n",
        "       [ 7.2,  3.6,  6.1,  2.5],\n",
        "       [ 6.5,  3.2,  5.1,  2. ],\n",
        "       [ 6.4,  2.7,  5.3,  1.9],\n",
        "       [ 6.8,  3. ,  5.5,  2.1],\n",
        "       [ 5.7,  2.5,  5. ,  2. ],\n",
        "       [ 5.8,  2.8,  5.1,  2.4],\n",
        "       [ 6.4,  3.2,  5.3,  2.3],\n",
        "       [ 6.5,  3. ,  5.5,  1.8],\n",
        "       [ 7.7,  3.8,  6.7,  2.2],\n",
        "       [ 7.7,  2.6,  6.9,  2.3],\n",
        "       [ 6. ,  2.2,  5. ,  1.5],\n",
        "       [ 6.9,  3.2,  5.7,  2.3],\n",
        "       [ 5.6,  2.8,  4.9,  2. ],\n",
        "       [ 7.7,  2.8,  6.7,  2. ],\n",
        "       [ 6.3,  2.7,  4.9,  1.8],\n",
        "       [ 6.7,  3.3,  5.7,  2.1],\n",
        "       [ 7.2,  3.2,  6. ,  1.8],\n",
        "       [ 6.2,  2.8,  4.8,  1.8],\n",
        "       [ 6.1,  3. ,  4.9,  1.8],\n",
        "       [ 6.4,  2.8,  5.6,  2.1],\n",
        "       [ 7.2,  3. ,  5.8,  1.6],\n",
        "       [ 7.4,  2.8,  6.1,  1.9],\n",
        "       [ 7.9,  3.8,  6.4,  2. ],\n",
        "       [ 6.4,  2.8,  5.6,  2.2],\n",
        "       [ 6.3,  2.8,  5.1,  1.5],\n",
        "       [ 6.1,  2.6,  5.6,  1.4],\n",
        "       [ 7.7,  3. ,  6.1,  2.3],\n",
        "       [ 6.3,  3.4,  5.6,  2.4],\n",
        "       [ 6.4,  3.1,  5.5,  1.8],\n",
        "       [ 6. ,  3. ,  4.8,  1.8],\n",
        "       [ 6.9,  3.1,  5.4,  2.1],\n",
        "       [ 6.7,  3.1,  5.6,  2.4],\n",
        "       [ 6.9,  3.1,  5.1,  2.3],\n",
        "       [ 5.8,  2.7,  5.1,  1.9],\n",
        "       [ 6.8,  3.2,  5.9,  2.3],\n",
        "       [ 6.7,  3.3,  5.7,  2.5],\n",
        "       [ 6.7,  3. ,  5.2,  2.3],\n",
        "       [ 6.3,  2.5,  5. ,  1.9],\n",
        "       [ 6.5,  3. ,  5.2,  2. ],\n",
        "       [ 6.2,  3.4,  5.4,  2.3],\n",
        "       [ 5.9,  3. ,  5.1,  1.8]])"
       ]
      }
     ],
     "prompt_number": 268
    },
    {
     "cell_type": "markdown",
     "metadata": {},
     "source": [
      "that looks like the iris data. Great lets check y"
     ]
    },
    {
     "cell_type": "code",
     "collapsed": false,
     "input": [
      "y_1d"
     ],
     "language": "python",
     "metadata": {},
     "outputs": [
      {
       "metadata": {},
       "output_type": "pyout",
       "prompt_number": 247,
       "text": [
        "array(['f', 'f', 'f', ..., 'f', 'f', 'f'], dtype=object)"
       ]
      }
     ],
     "prompt_number": 247
    },
    {
     "cell_type": "markdown",
     "metadata": {},
     "source": [
      "Looks good, its still 'f', 't'... lets see if it works anyway."
     ]
    },
    {
     "cell_type": "code",
     "collapsed": false,
     "input": [
      "clf.fit(X_2d, y_1d)\n"
     ],
     "language": "python",
     "metadata": {},
     "outputs": [
      {
       "metadata": {},
       "output_type": "pyout",
       "prompt_number": 248,
       "text": [
        "LinearSVC(C=1.0, class_weight=None, dual=True, fit_intercept=True,\n",
        "     intercept_scaling=1, loss='l2', multi_class='ovr', penalty='l2',\n",
        "     random_state=None, tol=0.0001, verbose=0)"
       ]
      }
     ],
     "prompt_number": 248
    },
    {
     "cell_type": "code",
     "collapsed": false,
     "input": [
      "# run with 't' ,'f'\n",
      "clf.intercept_"
     ],
     "language": "python",
     "metadata": {},
     "outputs": [
      {
       "metadata": {},
       "output_type": "pyout",
       "prompt_number": 249,
       "text": [
        "array([-0.88454977])"
       ]
      }
     ],
     "prompt_number": 249
    },
    {
     "cell_type": "markdown",
     "metadata": {},
     "source": [
      "thats take some time to run lets conver it into 0's and 1s and see if the results are similar"
     ]
    },
    {
     "cell_type": "code",
     "collapsed": false,
     "input": [
      "y_1d = np.array([1 if x == 't' else 0 for x in y_1d])"
     ],
     "language": "python",
     "metadata": {},
     "outputs": [],
     "prompt_number": 250
    },
    {
     "cell_type": "code",
     "collapsed": false,
     "input": [
      "y_1d\n"
     ],
     "language": "python",
     "metadata": {},
     "outputs": [
      {
       "metadata": {},
       "output_type": "pyout",
       "prompt_number": 251,
       "text": [
        "array([0, 0, 0, ..., 0, 0, 0])"
       ]
      }
     ],
     "prompt_number": 251
    },
    {
     "cell_type": "code",
     "collapsed": false,
     "input": [
      "y_iris"
     ],
     "language": "python",
     "metadata": {},
     "outputs": [
      {
       "metadata": {},
       "output_type": "pyout",
       "prompt_number": 280,
       "text": [
        "array([0, 0, 0, 0, 0, 0, 0, 0, 0, 0, 0, 0, 0, 0, 0, 0, 0, 0, 0, 0, 0, 0, 0,\n",
        "       0, 0, 0, 0, 0, 0, 0, 0, 0, 0, 0, 0, 0, 0, 0, 0, 0, 0, 0, 0, 0, 0, 0,\n",
        "       0, 0, 0, 0, 1, 1, 1, 1, 1, 1, 1, 1, 1, 1, 1, 1, 1, 1, 1, 1, 1, 1, 1,\n",
        "       1, 1, 1, 1, 1, 1, 1, 1, 1, 1, 1, 1, 1, 1, 1, 1, 1, 1, 1, 1, 1, 1, 1,\n",
        "       1, 1, 1, 1, 1, 1, 1, 1, 2, 2, 2, 2, 2, 2, 2, 2, 2, 2, 2, 2, 2, 2, 2,\n",
        "       2, 2, 2, 2, 2, 2, 2, 2, 2, 2, 2, 2, 2, 2, 2, 2, 2, 2, 2, 2, 2, 2, 2,\n",
        "       2, 2, 2, 2, 2, 2, 2, 2, 2, 2, 2, 2])"
       ]
      }
     ],
     "prompt_number": 280
    },
    {
     "cell_type": "markdown",
     "metadata": {},
     "source": [
      "lets make sure there not all 0's..."
     ]
    },
    {
     "cell_type": "code",
     "collapsed": false,
     "input": [
      "sum(y_1d)"
     ],
     "language": "python",
     "metadata": {},
     "outputs": [
      {
       "metadata": {},
       "output_type": "pyout",
       "prompt_number": 252,
       "text": [
        "36710"
       ]
      }
     ],
     "prompt_number": 252
    },
    {
     "cell_type": "code",
     "collapsed": false,
     "input": [],
     "language": "python",
     "metadata": {},
     "outputs": []
    },
    {
     "cell_type": "code",
     "collapsed": false,
     "input": [
      "clf.fit(X_2d, y_1d)"
     ],
     "language": "python",
     "metadata": {},
     "outputs": [
      {
       "metadata": {},
       "output_type": "pyout",
       "prompt_number": 292,
       "text": [
        "LinearSVC(C=1.0, class_weight=None, dual=True, fit_intercept=True,\n",
        "     intercept_scaling=1, loss='l2', multi_class='ovr', penalty='l2',\n",
        "     random_state=None, tol=0.0001, verbose=0)"
       ]
      }
     ],
     "prompt_number": 292
    },
    {
     "cell_type": "code",
     "collapsed": false,
     "input": [
      "clf.intercept_"
     ],
     "language": "python",
     "metadata": {},
     "outputs": [
      {
       "metadata": {},
       "output_type": "pyout",
       "prompt_number": 293,
       "text": [
        "array([-0.88495973])"
       ]
      }
     ],
     "prompt_number": 293
    },
    {
     "cell_type": "code",
     "collapsed": false,
     "input": [
      "clf.coef_"
     ],
     "language": "python",
     "metadata": {},
     "outputs": [
      {
       "metadata": {},
       "output_type": "pyout",
       "prompt_number": 299,
       "text": [
        "array([[-0.00110017]])"
       ]
      }
     ],
     "prompt_number": 299
    },
    {
     "cell_type": "markdown",
     "metadata": {},
     "source": [
      "so i'm being told on sk-learn irc (see below) with one feature the formual is: \n",
      "with one feature a linear classifier is just feature*coef + intercept > 0. so thats..."
     ]
    },
    {
     "cell_type": "code",
     "collapsed": false,
     "input": [
      "feature = -500"
     ],
     "language": "python",
     "metadata": {},
     "outputs": [],
     "prompt_number": 324
    },
    {
     "cell_type": "code",
     "collapsed": false,
     "input": [
      "feature*clf.intercept_ + clf.coef_"
     ],
     "language": "python",
     "metadata": {},
     "outputs": [
      {
       "metadata": {},
       "output_type": "pyout",
       "prompt_number": 325,
       "text": [
        "array([[ 442.4787669]])"
       ]
      }
     ],
     "prompt_number": 325
    },
    {
     "cell_type": "markdown",
     "metadata": {},
     "source": [
      "this means that a feature -500 students reached should predict 1. That doesn't make any sense. It also doesn't work."
     ]
    },
    {
     "cell_type": "markdown",
     "metadata": {},
     "source": [
      "lets take a look at our new data were going to test on..."
     ]
    },
    {
     "cell_type": "code",
     "collapsed": false,
     "input": [
      "test.students_reached"
     ],
     "language": "python",
     "metadata": {},
     "outputs": [
      {
       "metadata": {},
       "output_type": "pyout",
       "prompt_number": 259,
       "text": [
        "date_posted\n",
        "2014-05-12      32\n",
        "2014-05-12      22\n",
        "2014-05-11      17\n",
        "2014-05-11      12\n",
        "2014-05-11      24\n",
        "2014-05-11      20\n",
        "2014-05-11     320\n",
        "2014-05-11      18\n",
        "2014-05-11      25\n",
        "2014-05-11      28\n",
        "2014-05-11      30\n",
        "2014-05-11      15\n",
        "2014-05-11      22\n",
        "2014-05-11      30\n",
        "2014-05-11       6\n",
        "...\n",
        "2014-01-01     15\n",
        "2014-01-01     18\n",
        "2014-01-01     23\n",
        "2014-01-01     26\n",
        "2014-01-01     17\n",
        "2014-01-01     32\n",
        "2014-01-01     25\n",
        "2014-01-01      6\n",
        "2014-01-01     21\n",
        "2014-01-01     75\n",
        "2014-01-01     21\n",
        "2014-01-01     30\n",
        "2014-01-01     20\n",
        "2014-01-01     20\n",
        "2014-01-01     21\n",
        "Name: students_reached, Length: 44772, dtype: float64"
       ]
      }
     ],
     "prompt_number": 259
    },
    {
     "cell_type": "code",
     "collapsed": false,
     "input": [
      "test.students_reached = test.students_reached.fillna(0)"
     ],
     "language": "python",
     "metadata": {},
     "outputs": [],
     "prompt_number": 264
    },
    {
     "cell_type": "code",
     "collapsed": false,
     "input": [
      "new_data = np.array(test.students_reached)"
     ],
     "language": "python",
     "metadata": {},
     "outputs": [],
     "prompt_number": 271
    },
    {
     "cell_type": "code",
     "collapsed": false,
     "input": [
      "new_data"
     ],
     "language": "python",
     "metadata": {},
     "outputs": [
      {
       "metadata": {},
       "output_type": "pyout",
       "prompt_number": 272,
       "text": [
        "array([ 32.,  22.,  17., ...,  20.,  20.,  21.])"
       ]
      }
     ],
     "prompt_number": 272
    },
    {
     "cell_type": "markdown",
     "metadata": {},
     "source": [
      "lets take a sample, just one new point to predict like the iris data..."
     ]
    },
    {
     "cell_type": "code",
     "collapsed": false,
     "input": [
      "sample = [[new_data[0]]]"
     ],
     "language": "python",
     "metadata": {},
     "outputs": [],
     "prompt_number": 319
    },
    {
     "cell_type": "code",
     "collapsed": false,
     "input": [
      "sample"
     ],
     "language": "python",
     "metadata": {},
     "outputs": [
      {
       "metadata": {},
       "output_type": "pyout",
       "prompt_number": 320,
       "text": [
        "[[32.0]]"
       ]
      }
     ],
     "prompt_number": 320
    },
    {
     "cell_type": "markdown",
     "metadata": {},
     "source": [
      "that looks right... now lets predicte!"
     ]
    },
    {
     "cell_type": "code",
     "collapsed": false,
     "input": [
      "clf.predict(sample)"
     ],
     "language": "python",
     "metadata": {},
     "outputs": [
      {
       "metadata": {},
       "output_type": "pyout",
       "prompt_number": 308,
       "text": [
        "array([0])"
       ]
      }
     ],
     "prompt_number": 308
    },
    {
     "cell_type": "markdown",
     "metadata": {},
     "source": [
      "given 32 we predic it won't be exciting... lets recall the average and make a new sample with way more then that to see if things sorta work out the way we expect..."
     ]
    },
    {
     "cell_type": "markdown",
     "metadata": {},
     "source": [
      "so the mean of students reached was 94... lets try a sample with way more then that and see if we get a 1."
     ]
    },
    {
     "cell_type": "code",
     "collapsed": false,
     "input": [
      "super_sample = [[-500.0]]"
     ],
     "language": "python",
     "metadata": {},
     "outputs": [],
     "prompt_number": 337
    },
    {
     "cell_type": "code",
     "collapsed": false,
     "input": [
      "result = clf.predict(super_sample)"
     ],
     "language": "python",
     "metadata": {},
     "outputs": [],
     "prompt_number": 335
    },
    {
     "cell_type": "markdown",
     "metadata": {},
     "source": [
      "damnit... I had hoped that magic would work. I'm confused lets try IRC. TODO: irc chat..."
     ]
    },
    {
     "cell_type": "code",
     "collapsed": false,
     "input": [
      "result"
     ],
     "language": "python",
     "metadata": {},
     "outputs": [
      {
       "metadata": {},
       "output_type": "pyout",
       "prompt_number": 336,
       "text": [
        "array([0])"
       ]
      }
     ],
     "prompt_number": 336
    },
    {
     "cell_type": "markdown",
     "metadata": {},
     "source": [
      "im worried maybe my rows aren't lined up.."
     ]
    },
    {
     "cell_type": "code",
     "collapsed": false,
     "input": [
      "sorted_simple_train = simple_train.sort('students_reached')"
     ],
     "language": "python",
     "metadata": {},
     "outputs": [],
     "prompt_number": 377
    },
    {
     "cell_type": "code",
     "collapsed": false,
     "input": [
      "lets step back and plot this with a line "
     ],
     "language": "python",
     "metadata": {},
     "outputs": []
    },
    {
     "cell_type": "code",
     "collapsed": false,
     "input": [
      "sorted_simple_train.head()"
     ],
     "language": "python",
     "metadata": {},
     "outputs": [
      {
       "metadata": {},
       "output_type": "pyout",
       "prompt_number": 378,
       "text": [
        "       is_exciting                         projectid  students_reached\n",
        "619325           f  77558a6eda151deee9a00553f7fccfc7                 0\n",
        "617428           f  8c7ae47e6931d2d4b7922f1e9dbb7d67                 0\n",
        "617427           f  b7d021a7e872601aa70b5de4d1b0529d                 0\n",
        "617426           f  c083f482554c03ea7e32698516b4f08e                 0\n",
        "617425           f  de024193eba2d80d86eaabe6b7d58f1c                 0"
       ]
      }
     ],
     "prompt_number": 378
    },
    {
     "cell_type": "code",
     "collapsed": false,
     "input": [
      "sorted_simple_train.plot(title=\"students reached\", x=\"students_reached\", y=\"is_exciting\")"
     ],
     "language": "python",
     "metadata": {},
     "outputs": [
      {
       "ename": "TypeError",
       "evalue": "Series has object dtype and cannot be converted: no numeric data to plot",
       "output_type": "pyerr",
       "traceback": [
        "\u001b[1;31m---------------------------------------------------------------------------\u001b[0m\n\u001b[1;31mTypeError\u001b[0m                                 Traceback (most recent call last)",
        "\u001b[1;32m<ipython-input-382-136fa0a15114>\u001b[0m in \u001b[0;36m<module>\u001b[1;34m()\u001b[0m\n\u001b[1;32m----> 1\u001b[1;33m \u001b[0msorted_simple_train\u001b[0m\u001b[1;33m.\u001b[0m\u001b[0mplot\u001b[0m\u001b[1;33m(\u001b[0m\u001b[0mtitle\u001b[0m\u001b[1;33m=\u001b[0m\u001b[1;34m\"students reached\"\u001b[0m\u001b[1;33m,\u001b[0m \u001b[0mx\u001b[0m\u001b[1;33m=\u001b[0m\u001b[1;34m\"students_reached\"\u001b[0m\u001b[1;33m,\u001b[0m \u001b[0my\u001b[0m\u001b[1;33m=\u001b[0m\u001b[1;34m\"is_exciting\"\u001b[0m\u001b[1;33m)\u001b[0m\u001b[1;33m\u001b[0m\u001b[0m\n\u001b[0m",
        "\u001b[1;32m/usr/lib/python2.7/dist-packages/pandas/tools/plotting.pyc\u001b[0m in \u001b[0;36mplot_frame\u001b[1;34m(frame, x, y, subplots, sharex, sharey, use_index, figsize, grid, legend, rot, ax, style, title, xlim, ylim, logx, logy, xticks, yticks, kind, sort_columns, fontsize, secondary_y, **kwds)\u001b[0m\n\u001b[0;32m   1630\u001b[0m                            \u001b[0mgrid\u001b[0m\u001b[1;33m=\u001b[0m\u001b[0mgrid\u001b[0m\u001b[1;33m,\u001b[0m \u001b[0mlogx\u001b[0m\u001b[1;33m=\u001b[0m\u001b[0mlogx\u001b[0m\u001b[1;33m,\u001b[0m \u001b[0mlogy\u001b[0m\u001b[1;33m=\u001b[0m\u001b[0mlogy\u001b[0m\u001b[1;33m,\u001b[0m\u001b[1;33m\u001b[0m\u001b[0m\n\u001b[0;32m   1631\u001b[0m                            \u001b[0msecondary_y\u001b[0m\u001b[1;33m=\u001b[0m\u001b[0msecondary_y\u001b[0m\u001b[1;33m,\u001b[0m \u001b[0mtitle\u001b[0m\u001b[1;33m=\u001b[0m\u001b[0mtitle\u001b[0m\u001b[1;33m,\u001b[0m\u001b[1;33m\u001b[0m\u001b[0m\n\u001b[1;32m-> 1632\u001b[1;33m                            figsize=figsize, fontsize=fontsize, **kwds)\n\u001b[0m\u001b[0;32m   1633\u001b[0m \u001b[1;33m\u001b[0m\u001b[0m\n\u001b[0;32m   1634\u001b[0m     plot_obj = klass(frame, kind=kind, subplots=subplots, rot=rot,\n",
        "\u001b[1;32m/usr/lib/python2.7/dist-packages/pandas/tools/plotting.pyc\u001b[0m in \u001b[0;36mplot_series\u001b[1;34m(series, label, kind, use_index, rot, xticks, yticks, xlim, ylim, ax, style, grid, legend, logx, logy, secondary_y, **kwds)\u001b[0m\n\u001b[0;32m   1733\u001b[0m                      secondary_y=secondary_y, **kwds)\n\u001b[0;32m   1734\u001b[0m \u001b[1;33m\u001b[0m\u001b[0m\n\u001b[1;32m-> 1735\u001b[1;33m     \u001b[0mplot_obj\u001b[0m\u001b[1;33m.\u001b[0m\u001b[0mgenerate\u001b[0m\u001b[1;33m(\u001b[0m\u001b[1;33m)\u001b[0m\u001b[1;33m\u001b[0m\u001b[0m\n\u001b[0m\u001b[0;32m   1736\u001b[0m     \u001b[0mplot_obj\u001b[0m\u001b[1;33m.\u001b[0m\u001b[0mdraw\u001b[0m\u001b[1;33m(\u001b[0m\u001b[1;33m)\u001b[0m\u001b[1;33m\u001b[0m\u001b[0m\n\u001b[0;32m   1737\u001b[0m \u001b[1;33m\u001b[0m\u001b[0m\n",
        "\u001b[1;32m/usr/lib/python2.7/dist-packages/pandas/tools/plotting.pyc\u001b[0m in \u001b[0;36mgenerate\u001b[1;34m(self)\u001b[0m\n\u001b[0;32m    853\u001b[0m     \u001b[1;32mdef\u001b[0m \u001b[0mgenerate\u001b[0m\u001b[1;33m(\u001b[0m\u001b[0mself\u001b[0m\u001b[1;33m)\u001b[0m\u001b[1;33m:\u001b[0m\u001b[1;33m\u001b[0m\u001b[0m\n\u001b[0;32m    854\u001b[0m         \u001b[0mself\u001b[0m\u001b[1;33m.\u001b[0m\u001b[0m_args_adjust\u001b[0m\u001b[1;33m(\u001b[0m\u001b[1;33m)\u001b[0m\u001b[1;33m\u001b[0m\u001b[0m\n\u001b[1;32m--> 855\u001b[1;33m         \u001b[0mself\u001b[0m\u001b[1;33m.\u001b[0m\u001b[0m_compute_plot_data\u001b[0m\u001b[1;33m(\u001b[0m\u001b[1;33m)\u001b[0m\u001b[1;33m\u001b[0m\u001b[0m\n\u001b[0m\u001b[0;32m    856\u001b[0m         \u001b[0mself\u001b[0m\u001b[1;33m.\u001b[0m\u001b[0m_setup_subplots\u001b[0m\u001b[1;33m(\u001b[0m\u001b[1;33m)\u001b[0m\u001b[1;33m\u001b[0m\u001b[0m\n\u001b[0;32m    857\u001b[0m         \u001b[0mself\u001b[0m\u001b[1;33m.\u001b[0m\u001b[0m_make_plot\u001b[0m\u001b[1;33m(\u001b[0m\u001b[1;33m)\u001b[0m\u001b[1;33m\u001b[0m\u001b[0m\n",
        "\u001b[1;32m/usr/lib/python2.7/dist-packages/pandas/tools/plotting.pyc\u001b[0m in \u001b[0;36m_compute_plot_data\u001b[1;34m(self)\u001b[0m\n\u001b[0;32m    937\u001b[0m                 \u001b[1;31m# still an object dtype so we can't plot it\u001b[0m\u001b[1;33m\u001b[0m\u001b[1;33m\u001b[0m\u001b[0m\n\u001b[0;32m    938\u001b[0m                 \u001b[1;32mif\u001b[0m \u001b[0mnumeric_data\u001b[0m\u001b[1;33m.\u001b[0m\u001b[0mdtype\u001b[0m \u001b[1;33m==\u001b[0m \u001b[0mnp\u001b[0m\u001b[1;33m.\u001b[0m\u001b[0mobject_\u001b[0m\u001b[1;33m:\u001b[0m\u001b[1;33m\u001b[0m\u001b[0m\n\u001b[1;32m--> 939\u001b[1;33m                     raise TypeError('Series has object dtype and cannot be'\n\u001b[0m\u001b[0;32m    940\u001b[0m                                     ' converted: no numeric data to plot')\n\u001b[0;32m    941\u001b[0m \u001b[1;33m\u001b[0m\u001b[0m\n",
        "\u001b[1;31mTypeError\u001b[0m: Series has object dtype and cannot be converted: no numeric data to plot"
       ]
      }
     ],
     "prompt_number": 382
    },
    {
     "cell_type": "code",
     "collapsed": false,
     "input": [
      "sorted_simple_train.is_exciting[sorted_simple_train.is_exciting == 't'] = 1"
     ],
     "language": "python",
     "metadata": {},
     "outputs": [],
     "prompt_number": 411
    },
    {
     "cell_type": "code",
     "collapsed": false,
     "input": [
      "sorted_simple_train.is_exciting[sorted_simple_train.is_exciting == 'f'] = 0"
     ],
     "language": "python",
     "metadata": {},
     "outputs": [],
     "prompt_number": 415
    },
    {
     "cell_type": "markdown",
     "metadata": {},
     "source": [
      "did that really work?"
     ]
    },
    {
     "cell_type": "code",
     "collapsed": false,
     "input": [
      "all([isinstance(x, int) for x in sorted_simple_train.is_exciting])"
     ],
     "language": "python",
     "metadata": {},
     "outputs": [
      {
       "metadata": {},
       "output_type": "pyout",
       "prompt_number": 416,
       "text": [
        "True"
       ]
      }
     ],
     "prompt_number": 416
    },
    {
     "cell_type": "code",
     "collapsed": false,
     "input": [
      "sorted_simple_train.students_reached = sorted_simple_train.students_reached.fillna(0)"
     ],
     "language": "python",
     "metadata": {},
     "outputs": [],
     "prompt_number": 413
    },
    {
     "cell_type": "markdown",
     "metadata": {},
     "source": [
      "great!"
     ]
    },
    {
     "cell_type": "code",
     "collapsed": false,
     "input": [
      "sorted_simple_train.students_reached = pd.Series(sorted_simple_train.students_reached, dtype='float64')"
     ],
     "language": "python",
     "metadata": {},
     "outputs": [],
     "prompt_number": 399
    },
    {
     "cell_type": "code",
     "collapsed": false,
     "input": [
      "sorted_simple_train.is_exciting = pd.Series(sorted_simple_train.is_exciting, dtype='float64')"
     ],
     "language": "python",
     "metadata": {},
     "outputs": [],
     "prompt_number": 419
    },
    {
     "cell_type": "code",
     "collapsed": false,
     "input": [
      "sorted_simple_train.is_exciting"
     ],
     "language": "python",
     "metadata": {},
     "outputs": [
      {
       "metadata": {},
       "output_type": "pyout",
       "prompt_number": 417,
       "text": [
        "619325    0\n",
        "617428    0\n",
        "617427    0\n",
        "617426    0\n",
        "617425    0\n",
        "617424    0\n",
        "617423    0\n",
        "617422    0\n",
        "617421    0\n",
        "617429    0\n",
        "617420    0\n",
        "617417    0\n",
        "617416    0\n",
        "617415    0\n",
        "617414    0\n",
        "...\n",
        "428076    0\n",
        "103282    0\n",
        "108743    0\n",
        "127907    1\n",
        "428074    0\n",
        "108124    1\n",
        "119988    1\n",
        "109563    0\n",
        "112854    0\n",
        "110431    0\n",
        "239985    0\n",
        "230924    0\n",
        "427884    0\n",
        "103705    0\n",
        "100353    0\n",
        "Name: is_exciting, Length: 619326, dtype: object"
       ]
      }
     ],
     "prompt_number": 417
    },
    {
     "cell_type": "code",
     "collapsed": false,
     "input": [
      "sorted_simple_train.students_reached"
     ],
     "language": "python",
     "metadata": {},
     "outputs": [
      {
       "metadata": {},
       "output_type": "pyout",
       "prompt_number": 400,
       "text": [
        "619325    0\n",
        "617428    0\n",
        "617427    0\n",
        "617426    0\n",
        "617425    0\n",
        "617424    0\n",
        "617423    0\n",
        "617422    0\n",
        "617421    0\n",
        "617429    0\n",
        "617420    0\n",
        "617417    0\n",
        "617416    0\n",
        "617415    0\n",
        "617414    0\n",
        "...\n",
        "428076    0\n",
        "103282    0\n",
        "108743    0\n",
        "127907    0\n",
        "428074    0\n",
        "108124    0\n",
        "119988    0\n",
        "109563    0\n",
        "112854    0\n",
        "110431    0\n",
        "239985    0\n",
        "230924    0\n",
        "427884    0\n",
        "103705    0\n",
        "100353    0\n",
        "Name: students_reached, Length: 619326, dtype: float64"
       ]
      }
     ],
     "prompt_number": 400
    },
    {
     "cell_type": "code",
     "collapsed": false,
     "input": [
      "pd.options.display.mpl_style = 'default'\n",
      "sorted_simple_train.plot(title=\"students reached\", x=\"students_reached\", y=\"is_exciting\", style='.')\n",
      "\n",
      "#sorted_simple_train['students_reached'].plot(style='.')"
     ],
     "language": "python",
     "metadata": {},
     "outputs": [
      {
       "metadata": {},
       "output_type": "pyout",
       "prompt_number": 466,
       "text": [
        "<matplotlib.axes.AxesSubplot at 0x6f841250>"
       ]
      },
      {
       "metadata": {},
       "output_type": "display_data",
       "png": "[encoded data removed]",
       "text": [
        "<matplotlib.figure.Figure at 0xa2ba650>"
       ]
      }
     ],
     "prompt_number": 466
    },
    {
     "cell_type": "markdown",
     "metadata": {},
     "source": [
      "this looks like jibberish to me. then numbers are way to high.. right?"
     ]
    },
    {
     "cell_type": "code",
     "collapsed": false,
     "input": [
      "sorted_simple_train.students_reached.idxmax()"
     ],
     "language": "python",
     "metadata": {},
     "outputs": [
      {
       "metadata": {},
       "output_type": "pyout",
       "prompt_number": 432,
       "text": [
        "531434"
       ]
      }
     ],
     "prompt_number": 432
    },
    {
     "cell_type": "code",
     "collapsed": false,
     "input": [
      "sorted_simple_train.students_reached[531434]"
     ],
     "language": "python",
     "metadata": {},
     "outputs": [
      {
       "metadata": {},
       "output_type": "pyout",
       "prompt_number": 433,
       "text": [
        "999999.0"
       ]
      }
     ],
     "prompt_number": 433
    },
    {
     "cell_type": "markdown",
     "metadata": {},
     "source": [
      "ahhh, hmmm..."
     ]
    },
    {
     "cell_type": "code",
     "collapsed": false,
     "input": [
      "sorted_simple_train.students_reached.describe()"
     ],
     "language": "python",
     "metadata": {},
     "outputs": [
      {
       "metadata": {},
       "output_type": "pyout",
       "prompt_number": 434,
       "text": [
        "count    619326.000000\n",
        "mean         97.416968\n",
        "std        2363.795583\n",
        "min           0.000000\n",
        "25%          22.000000\n",
        "50%          30.000000\n",
        "75%         100.000000\n",
        "max      999999.000000\n",
        "dtype: float64"
       ]
      }
     ],
     "prompt_number": 434
    },
    {
     "cell_type": "code",
     "collapsed": false,
     "input": [
      "ss = sorted_simple_train.sort('students_reached')\n"
     ],
     "language": "python",
     "metadata": {},
     "outputs": [],
     "prompt_number": 442
    },
    {
     "cell_type": "code",
     "collapsed": false,
     "input": [
      "ss.students_reached = ss.students_reached.fillna(0)"
     ],
     "language": "python",
     "metadata": {},
     "outputs": [],
     "prompt_number": 455
    },
    {
     "cell_type": "code",
     "collapsed": false,
     "input": [],
     "language": "python",
     "metadata": {},
     "outputs": [
      {
       "metadata": {},
       "output_type": "pyout",
       "prompt_number": 464,
       "text": [
        "Empty DataFrame\n",
        "Columns: [is_exciting, projectid, students_reached]\n",
        "Index: []"
       ]
      }
     ],
     "prompt_number": 464
    },
    {
     "cell_type": "code",
     "collapsed": false,
     "input": [
      "ss.head(5)"
     ],
     "language": "python",
     "metadata": {},
     "outputs": [
      {
       "metadata": {},
       "output_type": "pyout",
       "prompt_number": 443,
       "text": [
        "        is_exciting                         projectid  students_reached\n",
        "619325            0  77558a6eda151deee9a00553f7fccfc7                 0\n",
        "619021            0  a7244e503db637f897e8fb13b2b11894                 0\n",
        "619020            0  f3475fd7580cff9428e35d215aab5481                 0\n",
        "619019            0  e5d4acd5a9105c09cd9601899b7da306                 0\n",
        "619018            0  84a4c0742a2fa58e1c51d971c1fbcf94                 0"
       ]
      }
     ],
     "prompt_number": 443
    },
    {
     "cell_type": "code",
     "collapsed": false,
     "input": [
      "ss.tail(20)"
     ],
     "language": "python",
     "metadata": {},
     "outputs": [
      {
       "metadata": {},
       "output_type": "pyout",
       "prompt_number": 446,
       "text": [
        "        is_exciting                         projectid  students_reached\n",
        "206219            0  673c3a83504105c1a260e6573993ca54              9296\n",
        "513688            0  b4af08437c687341f6bf9a3463445453              9600\n",
        "476372            0  9ee409a806a05a4aef68ba74e5ea0104             10000\n",
        "498200            0  e0f6e4c0dcc234cdfa3bb97a9851d8c2             10000\n",
        "470762            0  5c0b2230faf1e42c09ea9b4e1ef45612             10000\n",
        "606990            0  7d9ff31c421733e093e5e8055fbfc11a             10000\n",
        "585006            0  a20be4df0bace903645a134ba5e7e69c             10025\n",
        "607949            0  488c7065b0cf3b210a65d7876f6ec506             10031\n",
        "170089            0  03f83948b13af1c1b5eacb99f4637418             12143\n",
        "451735            0  2ccde69db82eaca3163699da31e86f2a             15000\n",
        "562720            0  6c070bde6e5339784155ff963483951d             16000\n",
        "517739            0  a5d0bb089243c7e11af27453afc7480e             20000\n",
        "567169            0  67f611ebb711ff40f2105de4d2055e58             30000\n",
        "432167            0  2d7b671f1cbf9f98a551a97bb8951905             33333\n",
        "584366            0  f2040c48c587ec7e623b6bf2c68ddc76             99999\n",
        "595872            0  8aedd6d5eb278f0accc57d0bcb0c8423            100000\n",
        "533317            0  5a08334b6b2f0bf80a3da3abe265ca21            650250\n",
        "531434            0  9a36efe308f40134c161590355d878f5            999999\n",
        "473924            0  42fe34fa58e80d20adba759b6e819a93            999999\n",
        "435503            0  b76d5c8f207efad0b04993383d2cd33a            999999"
       ]
      }
     ],
     "prompt_number": 446
    },
    {
     "cell_type": "markdown",
     "metadata": {},
     "source": [
      "ok well wow, so the numbers are really high..."
     ]
    },
    {
     "cell_type": "markdown",
     "metadata": {},
     "source": [
      "lets up drop these over enthestic projects.."
     ]
    },
    {
     "cell_type": "code",
     "collapsed": false,
     "input": [
      "ss[:-10].tail()\n",
      "#sorted_simple_train[.plot(title=\"students reached\", x=\"students_reached\", y=\"is_exciting\", style='.')\n"
     ],
     "language": "python",
     "metadata": {},
     "outputs": [
      {
       "metadata": {},
       "output_type": "pyout",
       "prompt_number": 475,
       "text": [
        "        is_exciting                         projectid  students_reached\n",
        "606990            0  7d9ff31c421733e093e5e8055fbfc11a             10000\n",
        "585006            0  a20be4df0bace903645a134ba5e7e69c             10025\n",
        "607949            0  488c7065b0cf3b210a65d7876f6ec506             10031\n",
        "170089            0  03f83948b13af1c1b5eacb99f4637418             12143\n",
        "451735            0  2ccde69db82eaca3163699da31e86f2a             15000"
       ]
      }
     ],
     "prompt_number": 475
    },
    {
     "cell_type": "markdown",
     "metadata": {},
     "source": [
      "still to ambitious"
     ]
    },
    {
     "cell_type": "code",
     "collapsed": false,
     "input": [
      "ss[:-400].tail()"
     ],
     "language": "python",
     "metadata": {},
     "outputs": [
      {
       "metadata": {},
       "output_type": "pyout",
       "prompt_number": 483,
       "text": [
        "        is_exciting                         projectid  students_reached\n",
        "581415            0  403f2a0d4815f2a3b3a4046f0d555632              1200\n",
        "467800            0  232bff0dc6edfd7114ec03a94a5a845f              1200\n",
        "574839            0  edf1983a189abde5fc98f0dfcc0648ab              1200\n",
        "608549            0  edf03ca1b98cdcb5553786d6ef0837b8              1200\n",
        "541195            0  345edec1022500771d0b8a726d02f0f9              1200"
       ]
      }
     ],
     "prompt_number": 483
    },
    {
     "cell_type": "markdown",
     "metadata": {},
     "source": [
      "ok lets drop 400, yelp."
     ]
    },
    {
     "cell_type": "code",
     "collapsed": false,
     "input": [
      "ss[:-400].plot(title=\"students reached\", x=\"students_reached\", y=\"is_exciting\", style='.')"
     ],
     "language": "python",
     "metadata": {},
     "outputs": [
      {
       "metadata": {},
       "output_type": "pyout",
       "prompt_number": 484,
       "text": [
        "<matplotlib.axes.AxesSubplot at 0x3db6d8d0>"
       ]
      },
      {
       "metadata": {},
       "output_type": "display_data",
       "png": "[encoded data removed]",
       "text": [
        "<matplotlib.figure.Figure at 0x5783a3d0>"
       ]
      }
     ],
     "prompt_number": 484
    },
    {
     "cell_type": "markdown",
     "metadata": {},
     "source": [
      "That is not helpful as we cannot see the density. maybe a histogram?"
     ]
    },
    {
     "cell_type": "code",
     "collapsed": false,
     "input": [
      "plt.figure()\n",
      "ss[:-2000].students_reached.hist(bins=1000)"
     ],
     "language": "python",
     "metadata": {},
     "outputs": [
      {
       "metadata": {},
       "output_type": "pyout",
       "prompt_number": 496,
       "text": [
        "<matplotlib.axes.AxesSubplot at 0xac49b590>"
       ]
      },
      {
       "metadata": {},
       "output_type": "display_data",
       "png": "[encoded data removed]",
       "text": [
        "<matplotlib.figure.Figure at 0x9c41f2d0>"
       ]
      }
     ],
     "prompt_number": 496
    },
    {
     "cell_type": "markdown",
     "metadata": {},
     "source": [
      "So if we ignore 2000 of the larger estimates we get a sense for the how many students are usually reached... and just how far the outliers are. Im not going to take the 10 minutes it takes to learn how to label this. The x is students reached and the y is how many. You can see that the vast majority predicted they would reach between 30 and 100. But we saw from the plot above that this wasn't correlated to if the project was exciting or not. It seems this is kind of a dud feature. Maybe we should drop it?"
     ]
    },
    {
     "cell_type": "markdown",
     "metadata": {},
     "source": [
      "Lets try a different tack. Lets cheat! woot! By cheat I mean were going to look at one of the winning submissions write ups..."
     ]
    },
    {
     "cell_type": "heading",
     "level": 1,
     "metadata": {},
     "source": [
      "learning from others"
     ]
    },
    {
     "cell_type": "markdown",
     "metadata": {},
     "source": [
      "Here is a write up of A the winning submission:\n",
      "\n",
      "https://github.com/rkirana/kdd2014/blob/master/KDDWinningSubmission.pdf"
     ]
    },
    {
     "cell_type": "markdown",
     "metadata": {},
     "source": [
      "Well, I know some of those words..."
     ]
    },
    {
     "cell_type": "markdown",
     "metadata": {},
     "source": [
      "code here: https://github.com/rkirana/kdd2014"
     ]
    },
    {
     "cell_type": "markdown",
     "metadata": {},
     "source": [
      "He transfers the data between R and python code, mainly using R."
     ]
    },
    {
     "cell_type": "markdown",
     "metadata": {},
     "source": [
      "That shows me how complex things can be but is far to complex for me to feel I can dive into it and get something working by the end of the day (when this is due)>"
     ]
    },
    {
     "cell_type": "markdown",
     "metadata": {},
     "source": [
      "I made this post and got this reply on the forums about 5 days ago..."
     ]
    },
    {
     "cell_type": "markdown",
     "metadata": {},
     "source": [
      ">Drew Verlee wrote:\n",
      " My data science class is having us participate in this competition (after it ended). Would anyone be able to provide a hint on a simple first step I could take to approaching this? I read through the forums and nothing  from my class: linear regression, KDD, decision trees... was discussed. As such, I assume these weren't the preferred models for this problem. \n",
      "\n",
      "\n",
      ">>You can try any of these algorithms, but most likely they will just not perform as well as some of the more complex algorithms used by top participants. In general, most people here skip decision trees in favor of tree-based ensembles (like Random Forest or Gradient Boosting). The projects data doesn't lend itself very well to logistic regression, but the essays data does. By only using the essay data and logistic regression you should be able to get a .57-ish score.\n",
      "And you can most definitely use decision trees on the projects data.\n",
      "Thanked by Triskelion"
     ]
    },
    {
     "cell_type": "markdown",
     "metadata": {},
     "source": [
      "So he reccomends using essay data and logistic regression to break .57. Lets try that, and lets use double cheat and use this code provided in other_peoples_code/predictions.csv #TODO rename. which you can find on my github account. So because it's vastly easier lets start at the end with the results."
     ]
    },
    {
     "cell_type": "code",
     "collapsed": false,
     "input": [
      "results = pd.read_csv(\"results/predictions.csv\")"
     ],
     "language": "python",
     "metadata": {},
     "outputs": [],
     "prompt_number": 497
    },
    {
     "cell_type": "code",
     "collapsed": false,
     "input": [
      "results.head()"
     ],
     "language": "python",
     "metadata": {},
     "outputs": [
      {
       "metadata": {},
       "output_type": "pyout",
       "prompt_number": 500,
       "text": [
        "                          projectid  is_exciting\n",
        "0  00034e54ed99042609edad55031c8861     0.067118\n",
        "1  00057f424b5498c7ece13d13ce3e2178     0.073966\n",
        "2  00059e63bb0567708b2b0c9e3d9c43d6     0.041773\n",
        "3  0008c67f27dd29ea7be5a7cc5a866df8     0.054921\n",
        "4  000b6e707ad50a597ab46eedff6bde05     0.027993"
       ]
      }
     ],
     "prompt_number": 500
    },
    {
     "cell_type": "markdown",
     "metadata": {},
     "source": [
      "Those results look valid. lets submit!"
     ]
    },
    {
     "cell_type": "markdown",
     "metadata": {},
     "source": [
      "<img src=\"static/results.png\">"
     ]
    },
    {
     "cell_type": "markdown",
     "metadata": {},
     "source": [
      "Success! see all you have to do is cheat :("
     ]
    },
    {
     "cell_type": "markdown",
     "metadata": {},
     "source": [
      "Let's break down that code and understand it..."
     ]
    },
    {
     "cell_type": "markdown",
     "metadata": {},
     "source": [
      "I'm going to go out of order so we address problems as they arrive and not how\n",
      "i would structure them in a program."
     ]
    },
    {
     "cell_type": "markdown",
     "metadata": {},
     "source": [
      "It's important to understand the algorithms were going to use"
     ]
    },
    {
     "cell_type": "code",
     "collapsed": false,
     "input": [
      "from sklearn.feature_extraction.text import TfidfVectorizer\n",
      "from sklearn import linear_model # were going to use logistic_regression"
     ],
     "language": "python",
     "metadata": {},
     "outputs": [],
     "prompt_number": 520
    },
    {
     "cell_type": "markdown",
     "metadata": {},
     "source": [
      "TfidVectorizer, lets look that up...\n",
      "it seems that it:"
     ]
    },
    {
     "cell_type": "markdown",
     "metadata": {},
     "source": [
      " 1. <a href=\"http://scikit-learn.org/stable/modules/generated/sklearn.feature_extraction.text.TfidfVectorizer.html\"> Convert a collection of raw documents to a matrix of TF-IDF features.</a>tf\u2013idf, short for term frequency\u2013inverse document frequency, is a numerical statistic that is intended to reflect how important a word is to a document in a collection or corpus.[1]:8 It is often used as a weighting factor in information retrieval and text mining. The tf-idf value increases proportionally to the number of times a word appears in the document, but is offset by the frequency of the word in the corpus, which helps to control for the fact that some words are generally more common than others.\n",
      " 2. <a href=\"http://stanford.edu/~rjweiss/public_html/IRiSS2013/text2/#1\"> slide show of what tfidvecotorizer does for you.</a>\n",
      " \n",
      " But what is tf-idf excactly...? From wiki:\n",
      " \n",
      ">tf\u2013idf, short for term frequency\u2013inverse document frequency, is a numerical statistic that is intended to reflect how important a word is to a document in a collection or corpus.[1]:8 It is often used as a weighting factor in information retrieval and text mining. The tf-idf value increases proportionally to the number of times a word appears in the document, but is offset by the frequency of the word in the corpus, which helps to control for the fact that some words are generally more common than others."
     ]
    },
    {
     "cell_type": "markdown",
     "metadata": {},
     "source": [
      "I have found ther term frequency of a document for another data science class. I don't feel you really lose much by not understanding the inner workings so we wont dive any depper."
     ]
    },
    {
     "cell_type": "markdown",
     "metadata": {},
     "source": [
      "Logistic regression should be more familiar to the intended audiance (possibe just myself or professor Rana if we braves it this far). So i won't go into deals."
     ]
    },
    {
     "cell_type": "markdown",
     "metadata": {},
     "source": [
      "Here is how we intend on using logistic regression to get our predictions:"
     ]
    },
    {
     "cell_type": "code",
     "collapsed": false,
     "input": [
      "#logistic_regression.fit(training_data, labels=='t')"
     ],
     "language": "python",
     "metadata": {},
     "outputs": []
    },
    {
     "cell_type": "markdown",
     "metadata": {},
     "source": [
      "Im not actal sure how these pieces (algorithms) fit together. lets look at the data. Lets get rolling and maybe ill re-organize these pieces to form a better narattive once i understand it."
     ]
    },
    {
     "cell_type": "code",
     "collapsed": false,
     "input": [
      "path = \"data/\"\n",
      "projects = pd.read_csv(path + 'projects.csv')\n",
      "outcomes = pd.read_csv(path + 'outcomes.csv')\n",
      "sample = pd.read_csv(path + 'sampleSubmission.csv')\n",
      "essays = pd.read_csv(path + 'essays.csv')"
     ],
     "language": "python",
     "metadata": {},
     "outputs": [],
     "prompt_number": 502
    },
    {
     "cell_type": "code",
     "collapsed": false,
     "input": [
      "# TODO: why are we sorting by project id? just to make sure their aligned probable.\n",
      "essays = essays.sort('projectid')\n",
      "projects = projects.sort('projectid')\n",
      "sample = sample.sort('projectid')\n",
      "# merge is joining our two tables into one.\n",
      "ess_proj = pd.merge(essays, projects, on='projectid')\n",
      "del projects\n",
      "del essays\n",
      "print \"finish reading\"\n",
      "outcomes = outcomes.sort('projectid')\n",
      "# loading into array probable just to work with sklearn.\n",
      "outcomes_arr = np.array(outcomes)"
     ],
     "language": "python",
     "metadata": {},
     "outputs": [
      {
       "output_type": "stream",
       "stream": "stdout",
       "text": [
        "finish reading\n"
       ]
      }
     ],
     "prompt_number": 503
    },
    {
     "cell_type": "markdown",
     "metadata": {},
     "source": [
      "our host has provided us with a clean method which i won't attempt to understand... as i'm sure its tedious."
     ]
    },
    {
     "cell_type": "code",
     "collapsed": false,
     "input": [
      "def clean(s):\n",
      "        try:\n",
      "            return \" \".join(re.findall(r'\\w+', s,flags = re.UNICODE | re.LOCALE)).lower()\n",
      "        except:\n",
      "            return \" \".join(re.findall(r'\\w+', \"no_text\",flags = re.UNICODE | re.LOCALE)).lower()"
     ],
     "language": "python",
     "metadata": {},
     "outputs": [],
     "prompt_number": 504
    },
    {
     "cell_type": "code",
     "collapsed": false,
     "input": [
      "labels = outcomes_arr[:,1]"
     ],
     "language": "python",
     "metadata": {},
     "outputs": [],
     "prompt_number": 505
    },
    {
     "cell_type": "code",
     "collapsed": false,
     "input": [
      "import re\n",
      "# re is for regular expressions, which I won't try to explain here.\n",
      "ess_proj['essay'] = ess_proj['essay'].apply(clean)\n",
      "ess_proj_arr = np.array(ess_proj)\n",
      "print \"convert successfully\""
     ],
     "language": "python",
     "metadata": {},
     "outputs": [
      {
       "output_type": "stream",
       "stream": "stdout",
       "text": [
        "convert successfully\n"
       ]
      }
     ],
     "prompt_number": 507
    },
    {
     "cell_type": "markdown",
     "metadata": {},
     "source": [
      "Split our data by date."
     ]
    },
    {
     "cell_type": "code",
     "collapsed": false,
     "input": [
      "train_idx = np.where(ess_proj_arr[:,-1] < '2014-01-01')[0]\n",
      "test_idx = np.where(ess_proj_arr[:,-1] >= '2014-01-01')[0]"
     ],
     "language": "python",
     "metadata": {},
     "outputs": [],
     "prompt_number": 508
    },
    {
     "cell_type": "code",
     "collapsed": false,
     "input": [
      "traindata = ess_proj_arr[train_idx,:]\n",
      "testdata = ess_proj_arr[test_idx,:]\n",
      "# i guess were deleting things to save memory?\n",
      "del ess_proj_arr"
     ],
     "language": "python",
     "metadata": {},
     "outputs": [],
     "prompt_number": 509
    },
    {
     "cell_type": "markdown",
     "metadata": {},
     "source": [
      "Here is where things get inresting. As in, i'm not sure what the result of tfidvectorizer will be"
     ]
    },
    {
     "cell_type": "code",
     "collapsed": false,
     "input": [
      "tfidf = TfidfVectorizer(min_df=3,  max_features=1000)"
     ],
     "language": "python",
     "metadata": {},
     "outputs": [],
     "prompt_number": 510
    },
    {
     "cell_type": "code",
     "collapsed": false,
     "input": [
      "tfidf"
     ],
     "language": "python",
     "metadata": {},
     "outputs": [
      {
       "metadata": {},
       "output_type": "pyout",
       "prompt_number": 511,
       "text": [
        "TfidfVectorizer(analyzer=u'word', binary=False, charset=None,\n",
        "        charset_error=None, decode_error=u'strict',\n",
        "        dtype=<type 'numpy.int64'>, encoding=u'utf-8', input=u'content',\n",
        "        lowercase=True, max_df=1.0, max_features=1000, min_df=3,\n",
        "        ngram_range=(1, 1), norm=u'l2', preprocessor=None, smooth_idf=True,\n",
        "        stop_words=None, strip_accents=None, sublinear_tf=False,\n",
        "        token_pattern=u'(?u)\\\\b\\\\w\\\\w+\\\\b', tokenizer=None, use_idf=True,\n",
        "        vocabulary=None)"
       ]
      }
     ],
     "prompt_number": 511
    },
    {
     "cell_type": "markdown",
     "metadata": {},
     "source": [
      "if you went though the slides in the link above some of these options should seem familure. The docs say we have matrix ... but that could be several different types of data structures. While i'm not concerend about that it would be a starting point."
     ]
    },
    {
     "cell_type": "code",
     "collapsed": false,
     "input": [
      "type(tfidf)"
     ],
     "language": "python",
     "metadata": {},
     "outputs": [
      {
       "metadata": {},
       "output_type": "pyout",
       "prompt_number": 512,
       "text": [
        "sklearn.feature_extraction.text.TfidfVectorizer"
       ]
      }
     ],
     "prompt_number": 512
    },
    {
     "cell_type": "markdown",
     "metadata": {},
     "source": [
      "if we check the docs we see it has a method.\n",
      "\n",
      "> fit(raw_documents, y=None)\u00b6\n",
      "Learn a conversion law from documents to array data\n",
      "\n",
      "but what does that mean?"
     ]
    },
    {
     "cell_type": "markdown",
     "metadata": {},
     "source": [
      "\"Conversion law\" is to comman place for googleling to return anything so i went to IRC... and waited."
     ]
    },
    {
     "cell_type": "code",
     "collapsed": false,
     "input": [
      "#TODO what is a \"conversion law\"\n",
      "#TODO: is there a way to get a repersentation of this \"sparse matrix\"\n"
     ],
     "language": "python",
     "metadata": {},
     "outputs": []
    },
    {
     "cell_type": "markdown",
     "metadata": {},
     "source": [
      "I posted a <a href=\"https://stackoverflow.com/questions/25071621/what-does-conversion-law-mean-as-it-relates-to-this-method-description\">stackoverflow</a> question about it and asked on IRC..."
     ]
    },
    {
     "cell_type": "markdown",
     "metadata": {},
     "source": [
      "So, i'm not happy about my lack of understanding of this TfidVectorizer. The documentation is really bad on this, like \"converstion law\" isn't a thing outside a def relating to law and physics (which doesn't fit imo)."
     ]
    },
    {
     "cell_type": "markdown",
     "metadata": {},
     "source": [
      "Fine, we have a basic idea so lets move on... its late."
     ]
    },
    {
     "cell_type": "markdown",
     "metadata": {},
     "source": [
      "I got this advice on IRC (im dampxf) evil is answer my question.\n",
      "\n",
      "> (09:39:08 PM) evilgeniuspanda: you may want to have al ook at the documentation here: http://scikit-learn.org/stable/modules/feature_extraction.html#text-feature-extraction\n",
      "\n",
      ">(09:39:18 PM) evilgeniuspanda: particular the tf-idf term weighting section\n",
      "\n",
      ">(09:54:15 PM) evilgeniuspanda: the purpose of the TfidVectorizer is to take a body of text and turn it into a set of numeric features that can be used to fit a regression or classification model\n",
      "\n",
      ">(09:56:55 PM) evilgeniuspanda: Fit is the function that actually does this work - it takes some text as an input and creates a bunch of rules about how to transform text into numbers based on the frequency of various words in the input\n",
      "\n",
      ">(09:58:08 PM) evilgeniuspanda: if you look at the documentation for the class (http://scikit-learn.org/stable/modules/generated/sklearn.feature_extraction.text.TfidfVectorizer.html#sklearn.feature_extraction.text.TfidfVectorizer) you'll see the description of fit: \"Learn vocabulary and idf from training set.\"\n",
      "\n",
      ">(10:01:35 PM) evilgeniuspanda: there's no special significance to the phrase 'conversion law'\n",
      "\n",
      ">(10:02:17 PM) evilgeniuspanda: the key idea is just that if you want to be able to apply a model you built to some other text data, its important that you transform that other text data into numbers using the same method you used for the training data\n",
      "\n",
      "This is me\n",
      ">(10:02:35 PM) dampxf: evilgeniuspanda: Thank!, when your just exploring I cant tell if i'm looking at a mountain or a mole hill /=\n",
      "\n",
      ">(10:03:09 PM) evilgeniuspanda: calling fit() and then persisting that object will give you a way of applying the same rule set to later data\n",
      "\n",
      ">(10:04:21 PM) evilgeniuspanda: midnightcoffee, ok, sorry if i kind of veered off into details you weren't worried about\n",
      "\n",
      "> (10:05:22 PM) dampxf: evilgeniuspanda: not at all! I'm trying to understand all the things you talked about. \n",
      "> (10:07:34 PM) evilgeniuspanda: midnightcoffee, simplest way i can put it, TfidVectorizer.fit() uses an algorithm to come up with a set of rules to turn text into numbers\n",
      "\n",
      "> (10:07:46 PM) evilgeniuspanda: midnightcoffee, because at the end of the day, numbers are much easier to deal with than words\n",
      "\n",
      ">(10:08:40 PM) evilgeniuspanda: this is in contrast to TfidVectorizer.transform() will take the rules it figured out during fit, and apply those rules to some input text, and actually give you the numbers back\n",
      "\n",
      ">(10:10:08 PM) evilgeniuspanda: since its common to want to do both, one right after the other, TfidVectorizer.fit_transform() does exactly that, it figures out the rules, then applies them to the data\n",
      "\n",
      ">(10:11:08 PM) vorsorken left the room (quit: Quit: Leaving).\n",
      "\n",
      ">(10:11:51 PM) dampxf: I see, so when i called fit and then transform on my data i should have just used fit_transform\n",
      "\n",
      ">(10:12:06 PM) dampxf: well\n",
      "\n",
      ">(10:12:15 PM) dampxf: for my training data\n",
      "\n",
      ">(10:12:40 PM) evilgeniuspanda: the two approaches are really completely equivalent\n",
      "\n",
      ">(10:12:52 PM) evilgeniuspanda: under the hood fit_transform just calls fit, and then calls transform\n",
      "\n",
      ">(10:13:37 PM) evilgeniuspanda: but when you want to try out some other test data you'll want to use just transform, to be sure youre not changing the rules used to do the conversion into numbers"
     ]
    },
    {
     "cell_type": "markdown",
     "metadata": {},
     "source": [
      "But i dont see how it relates. It shouldn't be this hard to at least find the reference if not understand it."
     ]
    },
    {
     "cell_type": "markdown",
     "metadata": {},
     "source": [
      "Lets move on for now and fit this."
     ]
    },
    {
     "cell_type": "code",
     "collapsed": false,
     "input": [
      "tfidf.fit(traindata[:,5])\n"
     ],
     "language": "python",
     "metadata": {},
     "outputs": [
      {
       "metadata": {},
       "output_type": "pyout",
       "prompt_number": 517,
       "text": [
        "TfidfVectorizer(analyzer=u'word', binary=False, charset=None,\n",
        "        charset_error=None, decode_error=u'strict',\n",
        "        dtype=<type 'numpy.int64'>, encoding=u'utf-8', input=u'content',\n",
        "        lowercase=True, max_df=1.0, max_features=1000, min_df=3,\n",
        "        ngram_range=(1, 1), norm=u'l2', preprocessor=None, smooth_idf=True,\n",
        "        stop_words=None, strip_accents=None, sublinear_tf=False,\n",
        "        token_pattern=u'(?u)\\\\b\\\\w\\\\w+\\\\b', tokenizer=None, use_idf=True,\n",
        "        vocabulary=None)"
       ]
      }
     ],
     "prompt_number": 517
    },
    {
     "cell_type": "code",
     "collapsed": false,
     "input": [
      "training_data = tfidf.transform(traindata[:,5])\n",
      "del traindata\n",
      "test_data = tfidf.transform(testdata[:,5])\n",
      "del testdata\n",
      "print \"Transform finished\""
     ],
     "language": "python",
     "metadata": {},
     "outputs": [
      {
       "output_type": "stream",
       "stream": "stdout",
       "text": [
        "Transform finished\n"
       ]
      }
     ],
     "prompt_number": 518
    },
    {
     "cell_type": "code",
     "collapsed": false,
     "input": [
      "logistic_regression = linear_model.LogisticRegression()"
     ],
     "language": "python",
     "metadata": {},
     "outputs": [],
     "prompt_number": 521
    },
    {
     "cell_type": "markdown",
     "metadata": {},
     "source": [
      "now we use magic and train our data."
     ]
    },
    {
     "cell_type": "code",
     "collapsed": false,
     "input": [
      "logistic_regression.fit(training_data, labels=='t')"
     ],
     "language": "python",
     "metadata": {},
     "outputs": [
      {
       "metadata": {},
       "output_type": "pyout",
       "prompt_number": 522,
       "text": [
        "LogisticRegression(C=1.0, class_weight=None, dual=False, fit_intercept=True,\n",
        "          intercept_scaling=1, penalty='l2', random_state=None, tol=0.0001)"
       ]
      }
     ],
     "prompt_number": 522
    },
    {
     "cell_type": "markdown",
     "metadata": {},
     "source": [
      "Finally we predict "
     ]
    },
    {
     "cell_type": "code",
     "collapsed": false,
     "input": [
      "pred = logistic_regression.predict_proba(test_data)[:,1]\n"
     ],
     "language": "python",
     "metadata": {},
     "outputs": [],
     "prompt_number": 524
    },
    {
     "cell_type": "markdown",
     "metadata": {},
     "source": [
      "Thats it Beyond creating the csv which is done like soo."
     ]
    },
    {
     "cell_type": "code",
     "collapsed": false,
     "input": [
      "#sample['is_exciting'] = pred\n",
      "#sample.to_csv('predictions.csv', index = False)"
     ],
     "language": "python",
     "metadata": {},
     "outputs": []
    },
    {
     "cell_type": "heading",
     "level": 2,
     "metadata": {},
     "source": [
      "End"
     ]
    },
    {
     "cell_type": "markdown",
     "metadata": {},
     "source": [
      "What did we learn? Tons! \n",
      "\n",
      "1. more about logistic regression\n",
      "2. TfidfVectorizer\n",
      "3. Linear Support Vector Classification\n",
      "4. moar pandas\n",
      "5. more ipython\n",
      "6. more python\n",
      "7. That solving problems is really hard\n",
      "\n",
      "Most imporant we learned that the best way to start becoming a data scientiest is to dive right in. Or at least do these competions alongside learning more algorithms, math, machine learning, etc..."
     ]
    },
    {
     "cell_type": "code",
     "collapsed": false,
     "input": [],
     "language": "python",
     "metadata": {},
     "outputs": []
    }
   ],
   "metadata": {}
  }
 ]
}